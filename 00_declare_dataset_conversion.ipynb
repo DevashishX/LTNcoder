{
 "cells": [
  {
   "cell_type": "code",
   "execution_count": 1,
   "metadata": {},
   "outputs": [],
   "source": [
    "import may.datasets"
   ]
  },
  {
   "cell_type": "code",
   "execution_count": 2,
   "metadata": {},
   "outputs": [],
   "source": [
    "import may.datasets.declare\n",
    "\n",
    "data_path = r\"D:\\LTNcoder\\data\\unpacked\\p2p-0.3-2.json\"\n",
    "csv_gzip_path = r\"D:\\LTNcoder\\data\\unpacked\\p2p-0.3-2.csv.gz\"\n",
    "\n",
    "data = may.datasets.declare.DeclareDataset(data_path)"
   ]
  },
  {
   "cell_type": "code",
   "execution_count": 3,
   "metadata": {},
   "outputs": [
    {
     "name": "stdout",
     "output_type": "stream",
     "text": [
      "dict_keys(['attributes', 'cases'])\n",
      "Event types encoding ibcm: {'Approve PO 1': 0, 'Approve PO 2': 1, 'Approve PO 3': 2, 'Approve SC': 3, 'Create PO': 4, 'Create PR': 5, 'Create SC': 6, 'Pay': 7, 'Post GR': 8, 'Post IR': 9, 'Purchase SC': 10, 'Random activity 1': 11, 'Random activity 10': 12, 'Random activity 11': 13, 'Random activity 12': 14, 'Random activity 2': 15, 'Random activity 3': 16, 'Random activity 4': 17, 'Random activity 5': 18, 'Random activity 6': 19, 'Random activity 7': 20, 'Random activity 8': 21, 'Random activity 9': 22, 'Release PO': 23, 'Release PR': 24}\n"
     ]
    }
   ],
   "source": [
    "data.dataset_info()\n",
    "data.load_dataframe()"
   ]
  },
  {
   "cell_type": "code",
   "execution_count": 4,
   "metadata": {},
   "outputs": [
    {
     "data": {
      "text/html": [
       "<div>\n",
       "<style scoped>\n",
       "    .dataframe tbody tr th:only-of-type {\n",
       "        vertical-align: middle;\n",
       "    }\n",
       "\n",
       "    .dataframe tbody tr th {\n",
       "        vertical-align: top;\n",
       "    }\n",
       "\n",
       "    .dataframe thead th {\n",
       "        text-align: right;\n",
       "    }\n",
       "</style>\n",
       "<table border=\"1\" class=\"dataframe\">\n",
       "  <thead>\n",
       "    <tr style=\"text-align: right;\">\n",
       "      <th></th>\n",
       "      <th>trace_id</th>\n",
       "      <th>name</th>\n",
       "      <th>user</th>\n",
       "      <th>day</th>\n",
       "      <th>anomaly</th>\n",
       "    </tr>\n",
       "  </thead>\n",
       "  <tbody>\n",
       "    <tr>\n",
       "      <th>0</th>\n",
       "      <td>1</td>\n",
       "      <td>Create PR</td>\n",
       "      <td>Josef</td>\n",
       "      <td>Wednesday</td>\n",
       "      <td>SkipSequence</td>\n",
       "    </tr>\n",
       "    <tr>\n",
       "      <th>1</th>\n",
       "      <td>1</td>\n",
       "      <td>Release PR</td>\n",
       "      <td>Jack</td>\n",
       "      <td>Tuesday</td>\n",
       "      <td>SkipSequence</td>\n",
       "    </tr>\n",
       "    <tr>\n",
       "      <th>2</th>\n",
       "      <td>1</td>\n",
       "      <td>Create PO</td>\n",
       "      <td>Seth</td>\n",
       "      <td>Tuesday</td>\n",
       "      <td>SkipSequence</td>\n",
       "    </tr>\n",
       "    <tr>\n",
       "      <th>3</th>\n",
       "      <td>1</td>\n",
       "      <td>Approve PO 1</td>\n",
       "      <td>Brian</td>\n",
       "      <td>Wednesday</td>\n",
       "      <td>SkipSequence</td>\n",
       "    </tr>\n",
       "    <tr>\n",
       "      <th>4</th>\n",
       "      <td>1</td>\n",
       "      <td>Approve PO 2</td>\n",
       "      <td>Sharee</td>\n",
       "      <td>Tuesday</td>\n",
       "      <td>SkipSequence</td>\n",
       "    </tr>\n",
       "  </tbody>\n",
       "</table>\n",
       "</div>"
      ],
      "text/plain": [
       "   trace_id          name    user        day       anomaly\n",
       "0         1     Create PR   Josef  Wednesday  SkipSequence\n",
       "1         1    Release PR    Jack    Tuesday  SkipSequence\n",
       "2         1     Create PO    Seth    Tuesday  SkipSequence\n",
       "3         1  Approve PO 1   Brian  Wednesday  SkipSequence\n",
       "4         1  Approve PO 2  Sharee    Tuesday  SkipSequence"
      ]
     },
     "execution_count": 4,
     "metadata": {},
     "output_type": "execute_result"
    }
   ],
   "source": [
    "data.dataframe.head()"
   ]
  },
  {
   "cell_type": "code",
   "execution_count": null,
   "metadata": {},
   "outputs": [],
   "source": [
    "data.dataframe_encoded_string_to_file(r\".\\data\\declarelogs\\ibcm\\p2p-0.3-2\")"
   ]
  },
  {
   "cell_type": "code",
   "execution_count": 8,
   "metadata": {},
   "outputs": [
    {
     "name": "stdout",
     "output_type": "stream",
     "text": [
      "iBCM Python version\n"
     ]
    },
    {
     "ename": "ModuleNotFoundError",
     "evalue": "No module named 'run_iBCM'",
     "output_type": "error",
     "traceback": [
      "\u001b[1;31m---------------------------------------------------------------------------\u001b[0m",
      "\u001b[1;31mModuleNotFoundError\u001b[0m                       Traceback (most recent call last)",
      "Cell \u001b[1;32mIn[8], line 1\u001b[0m\n\u001b[1;32m----> 1\u001b[0m \u001b[38;5;28;01mfrom\u001b[39;00m\u001b[38;5;250m \u001b[39m\u001b[38;5;21;01mpyiBCM\u001b[39;00m\u001b[38;5;250m \u001b[39m\u001b[38;5;28;01mimport\u001b[39;00m iBCM_Python\n\u001b[0;32m      3\u001b[0m iBCM_Python\u001b[38;5;241m.\u001b[39mrun_iBCM(\n\u001b[0;32m      4\u001b[0m             dat\u001b[38;5;241m=\u001b[39m\u001b[38;5;124mr\u001b[39m\u001b[38;5;124m\"\u001b[39m\u001b[38;5;124mD:\u001b[39m\u001b[38;5;124m\\\u001b[39m\u001b[38;5;124mLTNcoder\u001b[39m\u001b[38;5;124m\\\u001b[39m\u001b[38;5;124mdata\u001b[39m\u001b[38;5;124m\\\u001b[39m\u001b[38;5;124mdeclarelogs\u001b[39m\u001b[38;5;124m\\\u001b[39m\u001b[38;5;124mibcm\u001b[39m\u001b[38;5;124m\\\u001b[39m\u001b[38;5;124mp2p-0.3-2.dat\u001b[39m\u001b[38;5;124m\"\u001b[39m,\n\u001b[0;32m      5\u001b[0m             lab\u001b[38;5;241m=\u001b[39m\u001b[38;5;124mr\u001b[39m\u001b[38;5;124m\"\u001b[39m\u001b[38;5;124mD:\u001b[39m\u001b[38;5;124m\\\u001b[39m\u001b[38;5;124mLTNcoder\u001b[39m\u001b[38;5;124m\\\u001b[39m\u001b[38;5;124mdata\u001b[39m\u001b[38;5;124m\\\u001b[39m\u001b[38;5;124mdeclarelogs\u001b[39m\u001b[38;5;124m\\\u001b[39m\u001b[38;5;124mibcm\u001b[39m\u001b[38;5;124m\\\u001b[39m\u001b[38;5;124mp2p-0.3-2.lab\u001b[39m\u001b[38;5;124m\"\u001b[39m,\n\u001b[0;32m      6\u001b[0m             dataset\u001b[38;5;241m=\u001b[39m\u001b[38;5;124m\"\u001b[39m\u001b[38;5;124mp2p-0.3-2\u001b[39m\u001b[38;5;124m\"\u001b[39m,\n\u001b[0;32m      7\u001b[0m             support\u001b[38;5;241m=\u001b[39m\u001b[38;5;241m0.5\u001b[39m,\n\u001b[0;32m      8\u001b[0m         )\n",
      "File \u001b[1;32md:\\LTNcoder\\pyiBCM\\iBCM_Python.py:13\u001b[0m\n\u001b[0;32m     10\u001b[0m \u001b[38;5;28;01mfrom\u001b[39;00m\u001b[38;5;250m \u001b[39m\u001b[38;5;21;01msklearn\u001b[39;00m\u001b[38;5;21;01m.\u001b[39;00m\u001b[38;5;21;01mnaive_bayes\u001b[39;00m\u001b[38;5;250m \u001b[39m\u001b[38;5;28;01mimport\u001b[39;00m MultinomialNB \u001b[38;5;28;01mas\u001b[39;00m NB\n\u001b[0;32m     11\u001b[0m \u001b[38;5;28;01mfrom\u001b[39;00m\u001b[38;5;250m \u001b[39m\u001b[38;5;21;01msklearn\u001b[39;00m\u001b[38;5;21;01m.\u001b[39;00m\u001b[38;5;21;01mtree\u001b[39;00m\u001b[38;5;250m \u001b[39m\u001b[38;5;28;01mimport\u001b[39;00m DecisionTreeClassifier \u001b[38;5;28;01mas\u001b[39;00m DT\n\u001b[1;32m---> 13\u001b[0m \u001b[38;5;28;01mfrom\u001b[39;00m\u001b[38;5;250m \u001b[39m\u001b[38;5;21;01mrun_iBCM\u001b[39;00m\u001b[38;5;250m \u001b[39m\u001b[38;5;28;01mimport\u001b[39;00m iBCM, iBCM_verify\n\u001b[0;32m     16\u001b[0m \u001b[38;5;28;01mdef\u001b[39;00m\u001b[38;5;250m \u001b[39m\u001b[38;5;21mrun_iBCM\u001b[39m(dat, lab, dataset, support):\n\u001b[0;32m     17\u001b[0m     \u001b[38;5;66;03m## Read files\u001b[39;00m\n\u001b[0;32m     18\u001b[0m     \u001b[38;5;66;03m# trace_file = open(\"./datasets/\" + dataset + \".dat\", \"r\")\u001b[39;00m\n\u001b[0;32m     19\u001b[0m     \u001b[38;5;66;03m# label_file = open(\"./datasets/\" + dataset + \".lab\", \"r\")\u001b[39;00m\n\u001b[0;32m     21\u001b[0m     trace_file \u001b[38;5;241m=\u001b[39m \u001b[38;5;28mopen\u001b[39m(dat, \u001b[38;5;124m\"\u001b[39m\u001b[38;5;124mr\u001b[39m\u001b[38;5;124m\"\u001b[39m)\n",
      "\u001b[1;31mModuleNotFoundError\u001b[0m: No module named 'run_iBCM'"
     ]
    }
   ],
   "source": [
    "from pyiBCM import iBCM_Python\n",
    "\n",
    "iBCM_Python.run_iBCM(\n",
    "            dat=r\"D:\\LTNcoder\\data\\declarelogs\\ibcm\\p2p-0.3-2.dat\",\n",
    "            lab=r\"D:\\LTNcoder\\data\\declarelogs\\ibcm\\p2p-0.3-2.lab\",\n",
    "            dataset=\"p2p-0.3-2\",\n",
    "            support=0.5,\n",
    "        )"
   ]
  }
 ],
 "metadata": {
  "kernelspec": {
   "display_name": "ltn",
   "language": "python",
   "name": "python3"
  },
  "language_info": {
   "codemirror_mode": {
    "name": "ipython",
    "version": 3
   },
   "file_extension": ".py",
   "mimetype": "text/x-python",
   "name": "python",
   "nbconvert_exporter": "python",
   "pygments_lexer": "ipython3",
   "version": "3.9.21"
  }
 },
 "nbformat": 4,
 "nbformat_minor": 2
}

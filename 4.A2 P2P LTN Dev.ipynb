{
 "cells": [
  {
   "cell_type": "markdown",
   "metadata": {},
   "source": [
    "# Models for P2P-0.3-1 dataset\n",
    "\n",
    "Two models:\n",
    "1. Normal mode without LTN\n",
    "2. Model with LTN\n",
    "\n"
   ]
  },
  {
   "cell_type": "code",
   "execution_count": null,
   "metadata": {},
   "outputs": [],
   "source": []
  },
  {
   "cell_type": "code",
   "execution_count": 1,
   "metadata": {},
   "outputs": [],
   "source": [
    "import arrow\n",
    "import socket\n",
    "from sqlalchemy.orm import Session\n",
    "from tqdm.notebook import tqdm\n",
    "import time\n",
    "time.clock = time.time\n",
    "\n",
    "from april import Evaluator\n",
    "from april.anomalydetection import *\n",
    "from april.database import EventLog\n",
    "from april.database import Model\n",
    "from april.database import get_engine\n",
    "from april.dataset import Dataset\n",
    "from april.fs import DATE_FORMAT\n",
    "from april.fs import get_event_log_files"
   ]
  },
  {
   "cell_type": "code",
   "execution_count": 2,
   "metadata": {},
   "outputs": [
    {
     "name": "stdout",
     "output_type": "stream",
     "text": [
      "[PhysicalDevice(name='/physical_device:GPU:0', device_type='GPU')]\n",
      "GPU found\n",
      "Memory growth set\n"
     ]
    }
   ],
   "source": [
    "import tensorflow as tf\n",
    "physical_devices = tf.config.list_physical_devices('GPU')\n",
    "print(physical_devices)\n",
    "if len(physical_devices) > 0:\n",
    "    tf.config.experimental.set_memory_growth(physical_devices[0], True)\n",
    "    print(\"GPU found\")\n",
    "    print(\"Memory growth set\")\n",
    "else:\n",
    "    print(\"No GPU found\")"
   ]
  },
  {
   "cell_type": "code",
   "execution_count": 3,
   "metadata": {},
   "outputs": [],
   "source": [
    "def fit_and_save(dataset_name, ad, ad_kwargs=None, fit_kwargs=None):\n",
    "    if ad_kwargs is None:\n",
    "        ad_kwargs = {}\n",
    "    if fit_kwargs is None:\n",
    "        fit_kwargs = {}\n",
    "\n",
    "    # Save start time\n",
    "    start_time = arrow.now()\n",
    "\n",
    "    # Dataset\n",
    "    dataset = Dataset(dataset_name)\n",
    "\n",
    "    # AD\n",
    "    ad = ad(**ad_kwargs)\n",
    "\n",
    "    # Train and save\n",
    "    ad.fit(dataset, **fit_kwargs)\n",
    "    file_name = f'{dataset_name}_{ad.abbreviation}_{start_time.format(DATE_FORMAT)}'\n",
    "    model_file = ad.save(file_name)\n",
    "\n",
    "    # Save end time\n",
    "    end_time = arrow.now()\n",
    "\n",
    "    # Cache result\n",
    "    Evaluator(model_file.str_path).cache_result()\n",
    "\n",
    "    # Calculate training time in seconds\n",
    "    training_time = (end_time - start_time).total_seconds()\n",
    "\n",
    "    # Write to database\n",
    "    engine = get_engine()\n",
    "    session = Session(engine)\n",
    "\n",
    "    session.add(Model(creation_date=end_time.datetime,\n",
    "                      algorithm=ad.name,\n",
    "                      training_duration=training_time,\n",
    "                      file_name=model_file.file,\n",
    "                      training_event_log_id=EventLog.get_id_by_name(dataset_name),\n",
    "                      training_host=socket.gethostname(),\n",
    "                      hyperparameters=str(dict(**ad_kwargs, **fit_kwargs))))\n",
    "    session.commit()\n",
    "    session.close()\n",
    "\n",
    "    if isinstance(ad, NNAnomalyDetector):\n",
    "        from keras.backend import clear_session\n",
    "        clear_session()"
   ]
  },
  {
   "cell_type": "code",
   "execution_count": 4,
   "metadata": {},
   "outputs": [
    {
     "name": "stdout",
     "output_type": "stream",
     "text": [
      "['p2p-0.3-1']\n"
     ]
    }
   ],
   "source": [
    "datasets = sorted([e.name for e in get_event_log_files() if e.p == 0.3])\n",
    "# select_datasets = [\"paper\", \"p2p\", \"small\", \"medium\"]\n",
    "select_datasets = [\"p2p\"]\n",
    "select_attributes = [\"-1\"]\n",
    "datasets = [d for d in datasets if any([s in d for s in select_datasets])]\n",
    "datasets = [d for d in datasets if any([s in d for s in select_attributes])]\n",
    "dataset_name = datasets[0]\n",
    "print(datasets)\n"
   ]
  },
  {
   "cell_type": "code",
   "execution_count": null,
   "metadata": {},
   "outputs": [],
   "source": [
    "# from april.anomalydetection.ltnencoder import LTNDAEP2P"
   ]
  },
  {
   "cell_type": "code",
   "execution_count": null,
   "metadata": {},
   "outputs": [],
   "source": [
    "\n",
    "# ldp =  LTNDAEP2P()"
   ]
  },
  {
   "cell_type": "code",
   "execution_count": 7,
   "metadata": {},
   "outputs": [],
   "source": [
    "import arrow\n",
    "import socket\n",
    "from sqlalchemy.orm import Session\n",
    "from tqdm.notebook import tqdm\n",
    "\n",
    "from april import Evaluator\n",
    "from april.anomalydetection import *\n",
    "from april.database import EventLog\n",
    "from april.database import Model\n",
    "from april.database import get_engine\n",
    "from april.dataset import Dataset\n",
    "from april.fs import DATE_FORMAT\n",
    "from april.fs import get_event_log_files"
   ]
  },
  {
   "cell_type": "code",
   "execution_count": 8,
   "metadata": {},
   "outputs": [],
   "source": [
    "\n",
    "dataset = Dataset(dataset_name)\n"
   ]
  },
  {
   "cell_type": "code",
   "execution_count": 9,
   "metadata": {},
   "outputs": [
    {
     "name": "stdout",
     "output_type": "stream",
     "text": [
      "features.shape: 2\n",
      "flat_features.shape: (5000, 16, 2)\n",
      "flat_onehot_features_2d.shape: (5000, 2688)\n"
     ]
    }
   ],
   "source": [
    "flat_onehot_features_2d = dataset.flat_onehot_features_2d\n",
    "flat_features = dataset.flat_features\n",
    "features  = dataset.features\n",
    "print(f\"features.shape: {len(features)}\")\n",
    "print(f\"flat_features.shape: {flat_features.shape}\")\n",
    "print(f\"flat_onehot_features_2d.shape: {flat_onehot_features_2d.shape}\")\n"
   ]
  },
  {
   "cell_type": "code",
   "execution_count": 10,
   "metadata": {},
   "outputs": [
    {
     "name": "stdout",
     "output_type": "stream",
     "text": [
      "[27.  7. 11.  4.  5. 24.  9. 10.  8. 26.  0.  0.  0.  0.  0.  0.]\n",
      "[141.  32.  51.  27. 121.  13.  49. 123.  40. 140.   0.   0.   0.   0.\n",
      "   0.   0.]\n"
     ]
    }
   ],
   "source": [
    "print(features[0][0])\n",
    "print(features[1][0])\n"
   ]
  },
  {
   "cell_type": "code",
   "execution_count": 11,
   "metadata": {},
   "outputs": [
    {
     "name": "stdout",
     "output_type": "stream",
     "text": [
      "[[ 27. 141.]\n",
      " [  7.  32.]\n",
      " [ 11.  51.]\n",
      " [  4.  27.]\n",
      " [  5. 121.]\n",
      " [ 24.  13.]\n",
      " [  9.  49.]\n",
      " [ 10. 123.]\n",
      " [  8.  40.]\n",
      " [ 26. 140.]\n",
      " [  0.   0.]\n",
      " [  0.   0.]\n",
      " [  0.   0.]\n",
      " [  0.   0.]\n",
      " [  0.   0.]\n",
      " [  0.   0.]]\n",
      "<class 'numpy.ndarray'>\n"
     ]
    }
   ],
   "source": [
    "print(flat_features[0])\n",
    "print(type(flat_features))"
   ]
  },
  {
   "cell_type": "code",
   "execution_count": 12,
   "metadata": {},
   "outputs": [
    {
     "name": "stdout",
     "output_type": "stream",
     "text": [
      "[0. 0. 0. ... 0. 0. 0.]\n"
     ]
    }
   ],
   "source": [
    "print(flat_onehot_features_2d[0])"
   ]
  },
  {
   "cell_type": "code",
   "execution_count": 16,
   "metadata": {},
   "outputs": [
    {
     "name": "stdout",
     "output_type": "stream",
     "text": [
      "(5000, 2688)\n"
     ]
    }
   ],
   "source": [
    "print(flat_onehot_features_2d.shape)\n"
   ]
  },
  {
   "cell_type": "code",
   "execution_count": 17,
   "metadata": {},
   "outputs": [
    {
     "data": {
      "application/vnd.jupyter.widget-view+json": {
       "model_id": "2af7d83dfca24d1c817bcba7a69b8a20",
       "version_major": 2,
       "version_minor": 0
      },
      "text/plain": [
       "  0%|          | 0/1 [00:00<?, ?it/s]"
      ]
     },
     "metadata": {},
     "output_type": "display_data"
    },
    {
     "name": "stdout",
     "output_type": "stream",
     "text": [
      "Epoch 1/60\n",
      "9/9 [==============================] - 1s 58ms/step - loss: 0.2477 - accuracy: 0.0024 - val_loss: 0.2453 - val_accuracy: 0.0020\n",
      "Epoch 2/60\n",
      "9/9 [==============================] - 0s 14ms/step - loss: 0.2403 - accuracy: 0.0349 - val_loss: 0.2363 - val_accuracy: 0.3000\n",
      "Epoch 3/60\n",
      "9/9 [==============================] - 0s 13ms/step - loss: 0.2266 - accuracy: 0.1653 - val_loss: 0.2180 - val_accuracy: 0.5220\n",
      "Epoch 4/60\n",
      "9/9 [==============================] - 0s 13ms/step - loss: 0.2015 - accuracy: 0.3667 - val_loss: 0.1838 - val_accuracy: 0.6160\n",
      "Epoch 5/60\n",
      "9/9 [==============================] - 0s 13ms/step - loss: 0.1597 - accuracy: 0.4413 - val_loss: 0.1301 - val_accuracy: 0.6920\n",
      "Epoch 6/60\n",
      "9/9 [==============================] - 0s 13ms/step - loss: 0.1040 - accuracy: 0.4936 - val_loss: 0.0690 - val_accuracy: 0.9720\n",
      "Epoch 7/60\n",
      "9/9 [==============================] - 0s 11ms/step - loss: 0.0515 - accuracy: 0.5880 - val_loss: 0.0271 - val_accuracy: 1.0000\n",
      "Epoch 8/60\n",
      "9/9 [==============================] - 0s 13ms/step - loss: 0.0215 - accuracy: 0.7351 - val_loss: 0.0110 - val_accuracy: 1.0000\n",
      "Epoch 9/60\n",
      "9/9 [==============================] - 0s 13ms/step - loss: 0.0104 - accuracy: 0.8433 - val_loss: 0.0067 - val_accuracy: 1.0000\n",
      "Epoch 10/60\n",
      "9/9 [==============================] - 0s 11ms/step - loss: 0.0071 - accuracy: 0.8700 - val_loss: 0.0055 - val_accuracy: 1.0000\n",
      "Epoch 11/60\n",
      "9/9 [==============================] - 0s 13ms/step - loss: 0.0060 - accuracy: 0.8598 - val_loss: 0.0050 - val_accuracy: 1.0000\n",
      "Epoch 12/60\n",
      "9/9 [==============================] - 0s 12ms/step - loss: 0.0055 - accuracy: 0.8478 - val_loss: 0.0048 - val_accuracy: 1.0000\n",
      "Epoch 13/60\n",
      "9/9 [==============================] - 0s 12ms/step - loss: 0.0053 - accuracy: 0.8400 - val_loss: 0.0047 - val_accuracy: 1.0000\n",
      "Epoch 14/60\n",
      "9/9 [==============================] - 0s 13ms/step - loss: 0.0052 - accuracy: 0.8249 - val_loss: 0.0046 - val_accuracy: 1.0000\n",
      "Epoch 15/60\n",
      "9/9 [==============================] - 0s 12ms/step - loss: 0.0050 - accuracy: 0.8262 - val_loss: 0.0046 - val_accuracy: 1.0000\n",
      "Epoch 16/60\n",
      "9/9 [==============================] - 0s 13ms/step - loss: 0.0050 - accuracy: 0.8318 - val_loss: 0.0045 - val_accuracy: 1.0000\n",
      "Epoch 17/60\n",
      "9/9 [==============================] - 0s 14ms/step - loss: 0.0049 - accuracy: 0.8304 - val_loss: 0.0045 - val_accuracy: 1.0000\n",
      "Epoch 18/60\n",
      "9/9 [==============================] - 0s 13ms/step - loss: 0.0048 - accuracy: 0.8107 - val_loss: 0.0044 - val_accuracy: 1.0000\n",
      "Epoch 19/60\n",
      "9/9 [==============================] - 0s 13ms/step - loss: 0.0048 - accuracy: 0.8109 - val_loss: 0.0044 - val_accuracy: 1.0000\n",
      "Epoch 20/60\n",
      "9/9 [==============================] - 0s 15ms/step - loss: 0.0047 - accuracy: 0.8018 - val_loss: 0.0043 - val_accuracy: 1.0000\n",
      "Epoch 21/60\n",
      "9/9 [==============================] - 0s 12ms/step - loss: 0.0047 - accuracy: 0.8007 - val_loss: 0.0043 - val_accuracy: 1.0000\n",
      "Epoch 22/60\n",
      "9/9 [==============================] - 0s 12ms/step - loss: 0.0046 - accuracy: 0.8031 - val_loss: 0.0042 - val_accuracy: 1.0000\n",
      "Epoch 23/60\n",
      "9/9 [==============================] - 0s 12ms/step - loss: 0.0046 - accuracy: 0.7747 - val_loss: 0.0042 - val_accuracy: 1.0000\n",
      "Epoch 24/60\n",
      "9/9 [==============================] - 0s 12ms/step - loss: 0.0045 - accuracy: 0.8042 - val_loss: 0.0041 - val_accuracy: 1.0000\n",
      "Epoch 25/60\n",
      "9/9 [==============================] - 0s 11ms/step - loss: 0.0045 - accuracy: 0.7878 - val_loss: 0.0041 - val_accuracy: 1.0000\n",
      "Epoch 26/60\n",
      "9/9 [==============================] - 0s 13ms/step - loss: 0.0044 - accuracy: 0.7787 - val_loss: 0.0040 - val_accuracy: 1.0000\n",
      "Epoch 27/60\n",
      "9/9 [==============================] - 0s 13ms/step - loss: 0.0043 - accuracy: 0.7782 - val_loss: 0.0039 - val_accuracy: 1.0000\n",
      "Epoch 28/60\n",
      "9/9 [==============================] - 0s 12ms/step - loss: 0.0043 - accuracy: 0.7747 - val_loss: 0.0039 - val_accuracy: 1.0000\n",
      "Epoch 29/60\n",
      "9/9 [==============================] - 0s 13ms/step - loss: 0.0042 - accuracy: 0.7804 - val_loss: 0.0038 - val_accuracy: 1.0000\n",
      "Epoch 30/60\n",
      "9/9 [==============================] - 0s 12ms/step - loss: 0.0041 - accuracy: 0.7620 - val_loss: 0.0037 - val_accuracy: 1.0000\n",
      "Epoch 31/60\n",
      "9/9 [==============================] - 0s 12ms/step - loss: 0.0040 - accuracy: 0.7651 - val_loss: 0.0036 - val_accuracy: 1.0000\n",
      "Epoch 32/60\n",
      "9/9 [==============================] - 0s 11ms/step - loss: 0.0040 - accuracy: 0.7738 - val_loss: 0.0036 - val_accuracy: 1.0000\n",
      "Epoch 33/60\n",
      "9/9 [==============================] - 0s 14ms/step - loss: 0.0039 - accuracy: 0.7567 - val_loss: 0.0035 - val_accuracy: 1.0000\n",
      "Epoch 34/60\n",
      "9/9 [==============================] - 0s 12ms/step - loss: 0.0038 - accuracy: 0.7616 - val_loss: 0.0034 - val_accuracy: 1.0000\n",
      "Epoch 35/60\n",
      "9/9 [==============================] - 0s 13ms/step - loss: 0.0037 - accuracy: 0.7613 - val_loss: 0.0033 - val_accuracy: 1.0000\n",
      "Epoch 36/60\n",
      "9/9 [==============================] - 0s 11ms/step - loss: 0.0037 - accuracy: 0.7569 - val_loss: 0.0033 - val_accuracy: 1.0000\n",
      "Epoch 37/60\n",
      "9/9 [==============================] - 0s 12ms/step - loss: 0.0036 - accuracy: 0.7478 - val_loss: 0.0032 - val_accuracy: 1.0000\n",
      "Epoch 38/60\n",
      "9/9 [==============================] - 0s 11ms/step - loss: 0.0035 - accuracy: 0.7407 - val_loss: 0.0032 - val_accuracy: 1.0000\n",
      "Epoch 39/60\n",
      "9/9 [==============================] - 0s 12ms/step - loss: 0.0035 - accuracy: 0.7358 - val_loss: 0.0031 - val_accuracy: 1.0000\n",
      "Epoch 40/60\n",
      "9/9 [==============================] - 0s 11ms/step - loss: 0.0034 - accuracy: 0.7371 - val_loss: 0.0031 - val_accuracy: 1.0000\n",
      "Epoch 41/60\n",
      "9/9 [==============================] - 0s 12ms/step - loss: 0.0034 - accuracy: 0.7316 - val_loss: 0.0030 - val_accuracy: 1.0000\n",
      "Epoch 42/60\n",
      "9/9 [==============================] - 0s 12ms/step - loss: 0.0033 - accuracy: 0.7304 - val_loss: 0.0030 - val_accuracy: 1.0000\n",
      "Epoch 43/60\n",
      "9/9 [==============================] - 0s 12ms/step - loss: 0.0033 - accuracy: 0.7302 - val_loss: 0.0030 - val_accuracy: 1.0000\n",
      "Epoch 44/60\n",
      "9/9 [==============================] - 0s 13ms/step - loss: 0.0033 - accuracy: 0.7229 - val_loss: 0.0029 - val_accuracy: 1.0000\n",
      "Epoch 45/60\n",
      "9/9 [==============================] - 0s 13ms/step - loss: 0.0032 - accuracy: 0.7207 - val_loss: 0.0029 - val_accuracy: 1.0000\n",
      "Epoch 46/60\n",
      "9/9 [==============================] - 0s 14ms/step - loss: 0.0032 - accuracy: 0.7111 - val_loss: 0.0028 - val_accuracy: 1.0000\n",
      "Epoch 47/60\n",
      "9/9 [==============================] - 0s 12ms/step - loss: 0.0031 - accuracy: 0.7131 - val_loss: 0.0028 - val_accuracy: 1.0000\n",
      "Epoch 48/60\n",
      "9/9 [==============================] - 0s 12ms/step - loss: 0.0031 - accuracy: 0.7251 - val_loss: 0.0027 - val_accuracy: 1.0000\n",
      "Epoch 49/60\n",
      "9/9 [==============================] - 0s 12ms/step - loss: 0.0030 - accuracy: 0.7111 - val_loss: 0.0027 - val_accuracy: 1.0000\n",
      "Epoch 50/60\n",
      "9/9 [==============================] - 0s 11ms/step - loss: 0.0030 - accuracy: 0.7064 - val_loss: 0.0027 - val_accuracy: 1.0000\n",
      "Epoch 51/60\n",
      "9/9 [==============================] - 0s 12ms/step - loss: 0.0030 - accuracy: 0.7007 - val_loss: 0.0026 - val_accuracy: 1.0000\n",
      "Epoch 52/60\n",
      "9/9 [==============================] - 0s 13ms/step - loss: 0.0029 - accuracy: 0.7011 - val_loss: 0.0026 - val_accuracy: 1.0000\n",
      "Epoch 53/60\n",
      "9/9 [==============================] - 0s 12ms/step - loss: 0.0029 - accuracy: 0.6940 - val_loss: 0.0025 - val_accuracy: 1.0000\n",
      "Epoch 54/60\n",
      "9/9 [==============================] - 0s 13ms/step - loss: 0.0028 - accuracy: 0.7102 - val_loss: 0.0025 - val_accuracy: 1.0000\n",
      "Epoch 55/60\n",
      "9/9 [==============================] - 0s 11ms/step - loss: 0.0028 - accuracy: 0.6993 - val_loss: 0.0025 - val_accuracy: 1.0000\n",
      "Epoch 56/60\n",
      "9/9 [==============================] - 0s 12ms/step - loss: 0.0028 - accuracy: 0.6922 - val_loss: 0.0025 - val_accuracy: 1.0000\n",
      "Epoch 57/60\n",
      "9/9 [==============================] - 0s 12ms/step - loss: 0.0028 - accuracy: 0.6929 - val_loss: 0.0025 - val_accuracy: 1.0000\n",
      "Epoch 58/60\n",
      "9/9 [==============================] - 0s 12ms/step - loss: 0.0027 - accuracy: 0.6878 - val_loss: 0.0024 - val_accuracy: 1.0000\n",
      "Epoch 59/60\n",
      "9/9 [==============================] - 0s 12ms/step - loss: 0.0027 - accuracy: 0.6824 - val_loss: 0.0024 - val_accuracy: 1.0000\n",
      "Epoch 60/60\n",
      "9/9 [==============================] - 0s 11ms/step - loss: 0.0027 - accuracy: 0.6778 - val_loss: 0.0024 - val_accuracy: 1.0000\n",
      "d:\\binet\\.out\\models\\p2p-0.3-1_dae_20250325-182516.756109.keras\n",
      "157/157 [==============================] - 0s 1ms/step\n"
     ]
    }
   ],
   "source": [
    "ads = [\n",
    "    dict(ad=DAE, fit_kwargs=dict(epochs=60, batch_size=500))\n",
    "]\n",
    "for ad in ads:\n",
    "    [fit_and_save(d, **ad) for d in tqdm(datasets, leave=True, position=1)]"
   ]
  },
  {
   "cell_type": "code",
   "execution_count": 18,
   "metadata": {},
   "outputs": [],
   "source": [
    "dataset = Dataset(datasets[0])"
   ]
  },
  {
   "cell_type": "code",
   "execution_count": 19,
   "metadata": {},
   "outputs": [
    {
     "name": "stdout",
     "output_type": "stream",
     "text": [
      "<april.dataset.Dataset object at 0x00000151DCAD01C0>\n",
      "{'dataset_name': 'p2p-0.3-1', 'go_backwards': False, 'pad_mode': 'post', 'attribute_types': [<AttributeType.CATEGORICAL: 0>, <AttributeType.CATEGORICAL: 0>], 'attribute_keys': ['name', 'user'], 'classes': array([[[0, 0],\n",
      "        [0, 0],\n",
      "        [0, 0],\n",
      "        ...,\n",
      "        [0, 0],\n",
      "        [0, 0],\n",
      "        [0, 0]],\n",
      "\n",
      "       [[0, 0],\n",
      "        [0, 0],\n",
      "        [0, 0],\n",
      "        ...,\n",
      "        [0, 0],\n",
      "        [0, 0],\n",
      "        [0, 0]],\n",
      "\n",
      "       [[0, 0],\n",
      "        [0, 0],\n",
      "        [0, 0],\n",
      "        ...,\n",
      "        [0, 0],\n",
      "        [0, 0],\n",
      "        [0, 0]],\n",
      "\n",
      "       ...,\n",
      "\n",
      "       [[0, 0],\n",
      "        [0, 0],\n",
      "        [0, 0],\n",
      "        ...,\n",
      "        [0, 0],\n",
      "        [0, 0],\n",
      "        [0, 0]],\n",
      "\n",
      "       [[0, 0],\n",
      "        [0, 0],\n",
      "        [0, 0],\n",
      "        ...,\n",
      "        [0, 0],\n",
      "        [0, 0],\n",
      "        [0, 0]],\n",
      "\n",
      "       [[0, 0],\n",
      "        [0, 0],\n",
      "        [0, 0],\n",
      "        ...,\n",
      "        [0, 0],\n",
      "        [0, 0],\n",
      "        [0, 0]]], dtype=int64), 'labels': array(['normal', 'normal', 'normal', ..., 'normal', 'normal', 'normal'],\n",
      "      dtype=object), 'encoders': {'name': LabelEncoder(), 'user': LabelEncoder()}, '_mask': None, '_attribute_dims': None, '_case_lens': array([10, 11, 12, ..., 11, 10, 13], dtype=int64), '_features': [array([[27.,  7., 11., ...,  0.,  0.,  0.],\n",
      "       [27.,  7., 11., ...,  0.,  0.,  0.],\n",
      "       [27.,  7., 11., ...,  0.,  0.,  0.],\n",
      "       ...,\n",
      "       [27.,  7., 11., ...,  0.,  0.,  0.],\n",
      "       [27.,  7., 11., ...,  0.,  0.,  0.],\n",
      "       [27.,  7., 11., ...,  0.,  0.,  0.]]), array([[141.,  32.,  51., ...,   0.,   0.,   0.],\n",
      "       [141.,  32., 129., ...,   0.,   0.,   0.],\n",
      "       [141.,  32., 129., ...,   0.,   0.,   0.],\n",
      "       ...,\n",
      "       [141.,  32.,  51., ...,   0.,   0.,   0.],\n",
      "       [141.,  32., 129., ...,   0.,   0.,   0.],\n",
      "       [141.,  32.,  51., ...,   0.,   0.,   0.]])], '_event_log': None}\n"
     ]
    }
   ],
   "source": [
    "print(dataset)\n",
    "print(vars(dataset))"
   ]
  },
  {
   "cell_type": "code",
   "execution_count": null,
   "metadata": {},
   "outputs": [],
   "source": []
  }
 ],
 "metadata": {
  "kernelspec": {
   "display_name": "ltn",
   "language": "python",
   "name": "python3"
  },
  "language_info": {
   "codemirror_mode": {
    "name": "ipython",
    "version": 3
   },
   "file_extension": ".py",
   "mimetype": "text/x-python",
   "name": "python",
   "nbconvert_exporter": "python",
   "pygments_lexer": "ipython3",
   "version": "3.9.21"
  }
 },
 "nbformat": 4,
 "nbformat_minor": 2
}

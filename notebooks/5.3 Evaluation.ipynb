{
 "cells": [
  {
   "cell_type": "code",
   "execution_count": 53,
   "metadata": {},
   "outputs": [],
   "source": [
    "import matplotlib.pyplot as plt\n",
    "import numpy as np\n",
    "import pandas as pd\n",
    "import seaborn as sns\n",
    "from sqlalchemy.orm import Session\n",
    "import scikit_posthocs as sp\n",
    "\n",
    "from april.database import get_engine\n",
    "from april.fs import PLOT_DIR\n",
    "from april.utils import microsoft_colors, prettify_dataframe, cd_plot, get_cd\n",
    "from april.enums import Base, Strategy, Heuristic\n",
    "\n",
    "sns.set_style('white')\n",
    "pd.set_option('display.max_rows', 50)\n",
    "%config InlineBackend.figure_format = 'retina'"
   ]
  },
  {
   "cell_type": "code",
   "execution_count": 54,
   "metadata": {},
   "outputs": [],
   "source": [
    "out_dir = PLOT_DIR / 'isj-2019'\n",
    "eval_file = out_dir / 'eval.pkl'"
   ]
  },
  {
   "cell_type": "markdown",
   "metadata": {},
   "source": [
    "### Helper objects"
   ]
  },
  {
   "cell_type": "code",
   "execution_count": 55,
   "metadata": {},
   "outputs": [
    {
     "name": "stdout",
     "output_type": "stream",
     "text": [
      "['dae', 'naive', 'random', 'sampling']\n"
     ]
    }
   ],
   "source": [
    "synth_datasets = ['paper', 'p2p', 'small', 'medium', 'large', 'huge', 'gigantic', 'wide']\n",
    "bpic_datasets = ['bpic12', 'bpic13', 'bpic15', 'bpic17']\n",
    "anonymous_datasets = ['real']\n",
    "datasets = synth_datasets + bpic_datasets + anonymous_datasets\n",
    "dataset_types = ['Synthetic', 'Real-life']\n",
    "\n",
    "binet_ads = [\"BINetv1\", \"BINetv2\", \"BINetv3\"]\n",
    "nn_ads = [\"dae\"] + binet_ads\n",
    "h_ads = nn_ads + [ \"Likelihood+\", \"t-STIDE+\", \"Naive+\"]\n",
    "d_ads = [\"naive\", \"sampling\", \"Likelihood\", \"OC-SVM\"]\n",
    "ads = h_ads + d_ads\n",
    "ads = ['dae', 'naive', 'random', 'sampling']\n",
    "heuristics = [r'$best$', r'$default$', r'$elbow_\\downarrow$', r'$elbow_\\uparrow$', \n",
    "              r'$lp_\\leftarrow$', r'$lp_\\leftrightarrow$', r'$lp_\\rightarrow$']\n",
    "print(ads)"
   ]
  },
  {
   "cell_type": "markdown",
   "metadata": {},
   "source": [
    "## Retrieve evaluations from pickle file"
   ]
  },
  {
   "cell_type": "code",
   "execution_count": 56,
   "metadata": {},
   "outputs": [],
   "source": [
    "evaluation = pd.read_pickle(eval_file)"
   ]
  },
  {
   "cell_type": "code",
   "execution_count": 57,
   "metadata": {},
   "outputs": [
    {
     "name": "stdout",
     "output_type": "stream",
     "text": [
      "['dae' 'naive' 'random' 'sampling']\n"
     ]
    }
   ],
   "source": [
    "print(evaluation[\"ad\"].unique())"
   ]
  },
  {
   "cell_type": "markdown",
   "metadata": {},
   "source": [
    "### Add identifier for BPIC datasets and filter for ADs"
   ]
  },
  {
   "cell_type": "code",
   "execution_count": 58,
   "metadata": {},
   "outputs": [
    {
     "data": {
      "text/html": [
       "<div>\n",
       "<style scoped>\n",
       "    .dataframe tbody tr th:only-of-type {\n",
       "        vertical-align: middle;\n",
       "    }\n",
       "\n",
       "    .dataframe tbody tr th {\n",
       "        vertical-align: top;\n",
       "    }\n",
       "\n",
       "    .dataframe thead th {\n",
       "        text-align: right;\n",
       "    }\n",
       "</style>\n",
       "<table border=\"1\" class=\"dataframe\">\n",
       "  <thead>\n",
       "    <tr style=\"text-align: right;\">\n",
       "      <th></th>\n",
       "      <th>file_name</th>\n",
       "      <th>date</th>\n",
       "      <th>hyperparameters</th>\n",
       "      <th>training_duration</th>\n",
       "      <th>training_host</th>\n",
       "      <th>ad</th>\n",
       "      <th>dataset_name</th>\n",
       "      <th>process_model</th>\n",
       "      <th>noise</th>\n",
       "      <th>dataset_id</th>\n",
       "      <th>axis</th>\n",
       "      <th>base</th>\n",
       "      <th>heuristic</th>\n",
       "      <th>strategy</th>\n",
       "      <th>label</th>\n",
       "      <th>attribute_name</th>\n",
       "      <th>perspective</th>\n",
       "      <th>precision</th>\n",
       "      <th>recall</th>\n",
       "      <th>f1</th>\n",
       "    </tr>\n",
       "  </thead>\n",
       "  <tbody>\n",
       "    <tr>\n",
       "      <th>1</th>\n",
       "      <td>medium-0.3-1_dae_20250319-131452.729609.keras</td>\n",
       "      <td>2025-03-19 13:15:11.812268</td>\n",
       "      <td>None</td>\n",
       "      <td>None</td>\n",
       "      <td>None</td>\n",
       "      <td>dae</td>\n",
       "      <td>medium-0.3-1</td>\n",
       "      <td>medium</td>\n",
       "      <td>0.3</td>\n",
       "      <td>1</td>\n",
       "      <td>0</td>\n",
       "      <td>scores</td>\n",
       "      <td>best</td>\n",
       "      <td>single</td>\n",
       "      <td>Anomaly</td>\n",
       "      <td>name</td>\n",
       "      <td>Control Flow</td>\n",
       "      <td>0.669202</td>\n",
       "      <td>0.987971</td>\n",
       "      <td>0.797927</td>\n",
       "    </tr>\n",
       "    <tr>\n",
       "      <th>3</th>\n",
       "      <td>medium-0.3-1_dae_20250319-131452.729609.keras</td>\n",
       "      <td>2025-03-19 13:15:11.812268</td>\n",
       "      <td>None</td>\n",
       "      <td>None</td>\n",
       "      <td>None</td>\n",
       "      <td>dae</td>\n",
       "      <td>medium-0.3-1</td>\n",
       "      <td>medium</td>\n",
       "      <td>0.3</td>\n",
       "      <td>1</td>\n",
       "      <td>0</td>\n",
       "      <td>scores</td>\n",
       "      <td>best</td>\n",
       "      <td>single</td>\n",
       "      <td>Anomaly</td>\n",
       "      <td>user</td>\n",
       "      <td>Data</td>\n",
       "      <td>0.000000</td>\n",
       "      <td>0.000000</td>\n",
       "      <td>0.000000</td>\n",
       "    </tr>\n",
       "    <tr>\n",
       "      <th>5</th>\n",
       "      <td>medium-0.3-1_dae_20250319-131452.729609.keras</td>\n",
       "      <td>2025-03-19 13:15:11.812268</td>\n",
       "      <td>None</td>\n",
       "      <td>None</td>\n",
       "      <td>None</td>\n",
       "      <td>dae</td>\n",
       "      <td>medium-0.3-1</td>\n",
       "      <td>medium</td>\n",
       "      <td>0.3</td>\n",
       "      <td>1</td>\n",
       "      <td>1</td>\n",
       "      <td>scores</td>\n",
       "      <td>best</td>\n",
       "      <td>single</td>\n",
       "      <td>Anomaly</td>\n",
       "      <td>name</td>\n",
       "      <td>Control Flow</td>\n",
       "      <td>0.384695</td>\n",
       "      <td>0.764318</td>\n",
       "      <td>0.511795</td>\n",
       "    </tr>\n",
       "    <tr>\n",
       "      <th>7</th>\n",
       "      <td>medium-0.3-1_dae_20250319-131452.729609.keras</td>\n",
       "      <td>2025-03-19 13:15:11.812268</td>\n",
       "      <td>None</td>\n",
       "      <td>None</td>\n",
       "      <td>None</td>\n",
       "      <td>dae</td>\n",
       "      <td>medium-0.3-1</td>\n",
       "      <td>medium</td>\n",
       "      <td>0.3</td>\n",
       "      <td>1</td>\n",
       "      <td>1</td>\n",
       "      <td>scores</td>\n",
       "      <td>best</td>\n",
       "      <td>single</td>\n",
       "      <td>Anomaly</td>\n",
       "      <td>user</td>\n",
       "      <td>Data</td>\n",
       "      <td>0.000000</td>\n",
       "      <td>0.000000</td>\n",
       "      <td>0.000000</td>\n",
       "    </tr>\n",
       "    <tr>\n",
       "      <th>9</th>\n",
       "      <td>medium-0.3-1_dae_20250319-131452.729609.keras</td>\n",
       "      <td>2025-03-19 13:15:11.812268</td>\n",
       "      <td>None</td>\n",
       "      <td>None</td>\n",
       "      <td>None</td>\n",
       "      <td>dae</td>\n",
       "      <td>medium-0.3-1</td>\n",
       "      <td>medium</td>\n",
       "      <td>0.3</td>\n",
       "      <td>1</td>\n",
       "      <td>2</td>\n",
       "      <td>scores</td>\n",
       "      <td>best</td>\n",
       "      <td>single</td>\n",
       "      <td>Anomaly</td>\n",
       "      <td>name</td>\n",
       "      <td>Control Flow</td>\n",
       "      <td>0.384695</td>\n",
       "      <td>0.764318</td>\n",
       "      <td>0.511795</td>\n",
       "    </tr>\n",
       "  </tbody>\n",
       "</table>\n",
       "</div>"
      ],
      "text/plain": [
       "                                       file_name                       date  \\\n",
       "1  medium-0.3-1_dae_20250319-131452.729609.keras 2025-03-19 13:15:11.812268   \n",
       "3  medium-0.3-1_dae_20250319-131452.729609.keras 2025-03-19 13:15:11.812268   \n",
       "5  medium-0.3-1_dae_20250319-131452.729609.keras 2025-03-19 13:15:11.812268   \n",
       "7  medium-0.3-1_dae_20250319-131452.729609.keras 2025-03-19 13:15:11.812268   \n",
       "9  medium-0.3-1_dae_20250319-131452.729609.keras 2025-03-19 13:15:11.812268   \n",
       "\n",
       "  hyperparameters training_duration training_host   ad  dataset_name  \\\n",
       "1            None              None          None  dae  medium-0.3-1   \n",
       "3            None              None          None  dae  medium-0.3-1   \n",
       "5            None              None          None  dae  medium-0.3-1   \n",
       "7            None              None          None  dae  medium-0.3-1   \n",
       "9            None              None          None  dae  medium-0.3-1   \n",
       "\n",
       "  process_model  noise  dataset_id  axis    base heuristic strategy    label  \\\n",
       "1        medium    0.3           1     0  scores      best   single  Anomaly   \n",
       "3        medium    0.3           1     0  scores      best   single  Anomaly   \n",
       "5        medium    0.3           1     1  scores      best   single  Anomaly   \n",
       "7        medium    0.3           1     1  scores      best   single  Anomaly   \n",
       "9        medium    0.3           1     2  scores      best   single  Anomaly   \n",
       "\n",
       "  attribute_name   perspective  precision    recall        f1  \n",
       "1           name  Control Flow   0.669202  0.987971  0.797927  \n",
       "3           user          Data   0.000000  0.000000  0.000000  \n",
       "5           name  Control Flow   0.384695  0.764318  0.511795  \n",
       "7           user          Data   0.000000  0.000000  0.000000  \n",
       "9           name  Control Flow   0.384695  0.764318  0.511795  "
      ]
     },
     "metadata": {},
     "output_type": "display_data"
    }
   ],
   "source": [
    "evaluation = evaluation.query(f'ad in {ads} and label == \"Anomaly\"')\n",
    "display(evaluation.head())"
   ]
  },
  {
   "cell_type": "code",
   "execution_count": 59,
   "metadata": {},
   "outputs": [],
   "source": [
    "evaluation['perspective-label'] = evaluation['perspective'] + '-' + evaluation['label']\n",
    "evaluation['attribute_name-label'] = evaluation['attribute_name'] + '-' + evaluation['label']\n",
    "evaluation['dataset_type'] = 'Synthetic'\n",
    "evaluation.loc[evaluation['process_model'].str.contains('bpic'), 'dataset_type'] = 'Real-life'\n",
    "evaluation.loc[evaluation['process_model'].str.contains('real'), 'dataset_type'] = 'Real-life'"
   ]
  },
  {
   "cell_type": "markdown",
   "metadata": {},
   "source": [
    "### Filter for best strategy"
   ]
  },
  {
   "cell_type": "markdown",
   "metadata": {},
   "source": [
    "In `5.1 Best Strategy.ipynb` we find that $\\tau_0$ and $\\tau_a$ seem to work best overall. Intuatively it makes sense to set a threshold $\\tau$ per attribute, hence we select $\\tau_a$ whereever applicable."
   ]
  },
  {
   "cell_type": "code",
   "execution_count": 60,
   "metadata": {},
   "outputs": [],
   "source": [
    "_filtered_evaluation = evaluation.query(f'ad in {h_ads} and (strategy == \"{Strategy.ATTRIBUTE}\"'\n",
    "                                       f' or (strategy == \"{Strategy.SINGLE}\" and process_model == \"bpic12\")'\n",
    "                                       f' or (strategy == \"{Strategy.SINGLE}\" and ad == \"Naive+\")) or ad in {d_ads}')"
   ]
  },
  {
   "cell_type": "markdown",
   "metadata": {},
   "source": [
    "### Filter for best heuristic"
   ]
  },
  {
   "cell_type": "markdown",
   "metadata": {},
   "source": [
    "In `5.2 Best Heuristic.ipynb` we find that $lp_\\rightarrow$ works best overall, aparat from DAE. For DAE we use $elbow_\\uparrow$. For all default methods we use $default$."
   ]
  },
  {
   "cell_type": "code",
   "execution_count": 61,
   "metadata": {},
   "outputs": [],
   "source": [
    "filtered_evaluation = _filtered_evaluation.query(f'heuristic == \"{Heuristic.DEFAULT}\"'\n",
    "                                                 f' or (heuristic == \"{Heuristic.LP_MEAN}\" and ad != \"dae\")'\n",
    "                                                 f' or (heuristic == \"{Heuristic.ELBOW_UP}\" and ad == \"dae\")')"
   ]
  },
  {
   "cell_type": "markdown",
   "metadata": {},
   "source": [
    "## Plot featured in paper (Figure 10)"
   ]
  },
  {
   "cell_type": "code",
   "execution_count": 65,
   "metadata": {},
   "outputs": [
    {
     "name": "stdout",
     "output_type": "stream",
     "text": [
      "<pandas.core.groupby.generic.DataFrameGroupBy object at 0x7f145d43f430>\n"
     ]
    }
   ],
   "source": [
    "df = filtered_evaluation.query('axis == 2')  # We give results on attribute level\n",
    "df = prettify_dataframe(df)\n",
    "print(df.groupby(['ad', 'file_name', 'dataset_type', 'dataset_name', 'perspective'])[['precision', 'recall', 'f1']])"
   ]
  },
  {
   "cell_type": "code",
   "execution_count": null,
   "metadata": {},
   "outputs": [
    {
     "name": "stdout",
     "output_type": "stream",
     "text": [
      "                                              file_name  \\\n",
      "213       medium-0.3-1_dae_20250319-131452.729609.keras   \n",
      "215       medium-0.3-1_dae_20250319-131452.729609.keras   \n",
      "297     medium-0.3-1_naive_20250319-131450.236340.keras   \n",
      "299     medium-0.3-1_naive_20250319-131450.236340.keras   \n",
      "321   medium-0.3-1_sampling_20250319-131450.964413.k...   \n",
      "...                                                 ...   \n",
      "2715     small-0.3-2_naive_20250319-131450.874247.keras   \n",
      "2717     small-0.3-2_naive_20250319-131450.874247.keras   \n",
      "2749  small-0.3-2_sampling_20250319-131452.466047.keras   \n",
      "2751  small-0.3-2_sampling_20250319-131452.466047.keras   \n",
      "2753  small-0.3-2_sampling_20250319-131452.466047.keras   \n",
      "\n",
      "                           date hyperparameters training_duration  \\\n",
      "213  2025-03-19 13:15:11.812268            None              None   \n",
      "215  2025-03-19 13:15:11.812268            None              None   \n",
      "297  2025-03-19 13:14:50.334753            None              None   \n",
      "299  2025-03-19 13:14:50.334753            None              None   \n",
      "321  2025-03-19 13:14:51.201213            None              None   \n",
      "...                         ...             ...               ...   \n",
      "2715 2025-03-19 13:14:50.989142            None              None   \n",
      "2717 2025-03-19 13:14:50.989142            None              None   \n",
      "2749 2025-03-19 13:14:52.753015            None              None   \n",
      "2751 2025-03-19 13:14:52.753015            None              None   \n",
      "2753 2025-03-19 13:14:52.753015            None              None   \n",
      "\n",
      "     training_host        ad  dataset_name process_model  noise  dataset_id  \\\n",
      "213           None       dae  medium-0.3-1        Medium    0.3           1   \n",
      "215           None       dae  medium-0.3-1        Medium    0.3           1   \n",
      "297           None     naive  medium-0.3-1        Medium    0.3           1   \n",
      "299           None     naive  medium-0.3-1        Medium    0.3           1   \n",
      "321           None  sampling  medium-0.3-1        Medium    0.3           1   \n",
      "...            ...       ...           ...           ...    ...         ...   \n",
      "2715          None     naive   small-0.3-2         Small    0.3           2   \n",
      "2717          None     naive   small-0.3-2         Small    0.3           2   \n",
      "2749          None  sampling   small-0.3-2         Small    0.3           2   \n",
      "2751          None  sampling   small-0.3-2         Small    0.3           2   \n",
      "2753          None  sampling   small-0.3-2         Small    0.3           2   \n",
      "\n",
      "      ...   strategy    label attribute_name   perspective precision  \\\n",
      "213   ...  $h^{(a)}$  Anomaly           name  Control Flow  0.980989   \n",
      "215   ...  $h^{(a)}$  Anomaly           user          Data  0.010638   \n",
      "297   ...        $h$  Anomaly           name  Control Flow  0.151157   \n",
      "299   ...        $h$  Anomaly           user          Data  0.000000   \n",
      "321   ...        $h$  Anomaly           name  Control Flow  0.646664   \n",
      "...   ...        ...      ...            ...           ...       ...   \n",
      "2715  ...        $h$  Anomaly            day          Data  0.000000   \n",
      "2717  ...        $h$  Anomaly           user          Data  0.000000   \n",
      "2749  ...        $h$  Anomaly           name  Control Flow  0.644307   \n",
      "2751  ...        $h$  Anomaly            day          Data  0.000000   \n",
      "2753  ...        $h$  Anomaly           user          Data  0.000000   \n",
      "\n",
      "        recall        f1     perspective-label  attribute_name-label  \\\n",
      "213   0.212608  0.349475  Control Flow-Anomaly          name-Anomaly   \n",
      "215   0.001227  0.002200          Data-Anomaly          user-Anomaly   \n",
      "297   0.896168  0.258682  Control Flow-Anomaly          name-Anomaly   \n",
      "299   0.000000  0.000000          Data-Anomaly          user-Anomaly   \n",
      "321   0.634940  0.640748  Control Flow-Anomaly          name-Anomaly   \n",
      "...        ...       ...                   ...                   ...   \n",
      "2715  0.000000  0.000000          Data-Anomaly           day-Anomaly   \n",
      "2717  0.000000  0.000000          Data-Anomaly          user-Anomaly   \n",
      "2749  0.704041  0.672851  Control Flow-Anomaly          name-Anomaly   \n",
      "2751  0.000000  0.000000          Data-Anomaly           day-Anomaly   \n",
      "2753  0.000000  0.000000          Data-Anomaly          user-Anomaly   \n",
      "\n",
      "      dataset_type  \n",
      "213      Synthetic  \n",
      "215      Synthetic  \n",
      "297      Synthetic  \n",
      "299      Synthetic  \n",
      "321      Synthetic  \n",
      "...            ...  \n",
      "2715     Synthetic  \n",
      "2717     Synthetic  \n",
      "2749     Synthetic  \n",
      "2751     Synthetic  \n",
      "2753     Synthetic  \n",
      "\n",
      "[51 rows x 23 columns]\n"
     ]
    },
    {
     "name": "stderr",
     "output_type": "stream",
     "text": [
      "/tmp/ipykernel_22580/3061828762.py:13: FutureWarning: The previous implementation of stack is deprecated and will be removed in a future version of pandas. See the What's New notes for pandas 2.1.0 for details. Specify future_stack=True to adopt the new implementation and silence this warning.\n",
      "  df = df.stack(1).stack(1).reset_index()\n",
      "/tmp/ipykernel_22580/3061828762.py:13: FutureWarning: The previous implementation of stack is deprecated and will be removed in a future version of pandas. See the What's New notes for pandas 2.1.0 for details. Specify future_stack=True to adopt the new implementation and silence this warning.\n",
      "  df = df.stack(1).stack(1).reset_index()\n",
      "/mnt/d/keras/lib/python3.9/site-packages/seaborn/axisgrid.py:854: UserWarning: The palette list has more values (10) than needed (4), which may not be intended.\n",
      "  func(*plot_args, **plot_kwargs)\n"
     ]
    },
    {
     "data": {
      "image/png": "[encoded data removed]",
      "text/plain": [
       "<Figure size 813.5x400 with 2 Axes>"
      ]
     },
     "metadata": {
      "image/png": {
       "height": 392,
       "width": 800
      }
     },
     "output_type": "display_data"
    }
   ],
   "source": [
    "# Set up dataframe\n",
    "df = filtered_evaluation.query('axis == 2')  # We give results on attribute level\n",
    "df = prettify_dataframe(df)\n",
    "print(df)\n",
    "# We first have to average for the two perspectives (to always weigh CF and Data 1 to 1), then we can average over all runs and datasets\n",
    "df = df.groupby(['ad', 'file_name', 'dataset_type', 'dataset_name', 'perspective'])[['precision', 'recall', 'f1']].mean().reset_index()\n",
    "df = df.groupby(['ad', 'file_name', 'dataset_type', 'dataset_name'])[['precision', 'recall', 'f1']].mean().reset_index()\n",
    "df['f1'] = 2 * df['recall'] * df['precision'] / (df['recall'] + df['precision'])  # We recalculate the F1 score based on the new averaged P and R values\n",
    "\n",
    "# We want to penalize DAE for running out of memory on some of the BPIC datasets, hence we set the F1 score to zero where DAE has NaN values\n",
    "df = pd.pivot_table(df, index=['ad'], columns=['dataset_type', 'dataset_name'], values=['precision', 'recall', 'f1'])\n",
    "df = df.fillna(0)\n",
    "df = df.stack(1).stack(1).reset_index()\n",
    "\n",
    "# Plot\n",
    "df = df.melt(id_vars=['ad', 'dataset_type', 'dataset_name'], value_vars=['precision', 'recall', 'f1'], var_name='metric')\n",
    "df = df.replace('f1', r'$F_1$').replace('precision', r'$Precision$').replace('recall', r'$Recall$')\n",
    "\n",
    "g = sns.FacetGrid(data=df, row='dataset_type', sharex=False, sharey=True, despine=False, height=2, aspect=3.5, row_order=dataset_types)\n",
    "g = g.map_dataframe(sns.barplot, x='metric', y='value', hue='ad', palette=microsoft_colors, hue_order=ads, order=[r'$Precision$', r'$Recall$', r'$F_1$'])\n",
    "g = g.add_legend()\n",
    "\n",
    "g.axes.flat[0].set(title='Synthetic')\n",
    "g.axes.flat[1].set(title='Real-life')\n",
    "\n",
    "g.savefig(str(out_dir / 'eval_overall.pdf'))"
   ]
  },
  {
   "cell_type": "markdown",
   "metadata": {},
   "source": [
    "## Significance Test (Fig. 11)"
   ]
  },
  {
   "cell_type": "markdown",
   "metadata": {},
   "source": [
    "Pairwise significance shown in CD diagram (Demsar 2006)."
   ]
  },
  {
   "cell_type": "code",
   "execution_count": null,
   "metadata": {},
   "outputs": [
    {
     "name": "stderr",
     "output_type": "stream",
     "text": [
      "/tmp/ipykernel_22580/2236514482.py:13: FutureWarning: The previous implementation of stack is deprecated and will be removed in a future version of pandas. See the What's New notes for pandas 2.1.0 for details. Specify future_stack=True to adopt the new implementation and silence this warning.\n",
      "  df = df.stack(1).reset_index()\n",
      "/tmp/ipykernel_22580/2236514482.py:23: FutureWarning: The provided callable <function mean at 0x7f149970a1f0> is currently using SeriesGroupBy.mean. In a future version of pandas, the provided callable will be used directly. To keep current behavior pass the string \"mean\" instead.\n",
      "  ranks = df.groupby(['ad'])['rank'].agg(np.mean).dropna().round(2)\n"
     ]
    },
    {
     "data": {
      "image/png": "[encoded data removed]",
      "text/plain": [
       "<Figure size 600x155 with 1 Axes>"
      ]
     },
     "metadata": {
      "image/png": {
       "height": 175,
       "width": 619
      }
     },
     "output_type": "display_data"
    }
   ],
   "source": [
    "df = filtered_evaluation.query('axis == 2 and dataset_type == \"Synthetic\"')\n",
    "df = prettify_dataframe(df)\n",
    "\n",
    "# We first have to average for the two perspectives (to always weigh CF and Data 1 to 1), then we can average over all runs and datasets\n",
    "df = df.groupby(['ad', 'file_name', 'dataset_type', 'dataset_name', 'perspective'])[['precision', 'recall', 'f1']].mean().reset_index()\n",
    "df = df.groupby(['ad', 'dataset_type', 'dataset_name'])[['precision', 'recall', 'f1']].mean().reset_index()\n",
    "df['f1'] = 2 * df['recall'] * df['precision'] / (df['recall'] + df['precision'])  # We recalculate the F1 score based on the new averaged P and R values\n",
    "# df['f1'] = df['f1'].fillna(0)\n",
    "\n",
    "# We want to penalize DAE for running out of memory on some of the BPIC datasets, hence we set the F1 score to zero where DAE has NaN values\n",
    "df = pd.pivot_table(df, index=['ad', 'dataset_type'], columns=['dataset_name'], values=['f1'])\n",
    "df = df.fillna(0)\n",
    "df = df.stack(1).reset_index()\n",
    "\n",
    "# Rank by F1 score\n",
    "df['rank'] = df.groupby(['dataset_name'])['f1'].rank(ascending=False)\n",
    "\n",
    "k = len(df['ad'].unique())\n",
    "n = len(df) / k\n",
    "alpha = 0.05\n",
    "cd = get_cd(k, n, alpha)  # Critical difference for k groups, n blocks\n",
    "\n",
    "ranks = df.groupby(['ad'])['rank'].agg(np.mean).dropna().round(2)\n",
    "fig = cd_plot(ranks, cd=cd, reverse=True)\n",
    "fig.savefig(str(out_dir / 'significance.pdf'))"
   ]
  },
  {
   "cell_type": "markdown",
   "metadata": {},
   "source": [
    "Pairwise significance using Nemenyi-Friedman."
   ]
  },
  {
   "cell_type": "code",
   "execution_count": null,
   "metadata": {},
   "outputs": [
    {
     "ename": "ValueError",
     "evalue": "`block_col` contains duplicated entries, `block_id_col` should be explicitly specified",
     "output_type": "error",
     "traceback": [
      "\u001b[0;31m---------------------------------------------------------------------------\u001b[0m",
      "\u001b[0;31mValueError\u001b[0m                                Traceback (most recent call last)",
      "Cell \u001b[0;32mIn[51], line 2\u001b[0m\n\u001b[1;32m      1\u001b[0m nemenyi_df \u001b[38;5;241m=\u001b[39m df\u001b[38;5;241m.\u001b[39mgroupby([\u001b[38;5;124m'\u001b[39m\u001b[38;5;124mad\u001b[39m\u001b[38;5;124m'\u001b[39m, \u001b[38;5;124m'\u001b[39m\u001b[38;5;124mdataset_name\u001b[39m\u001b[38;5;124m'\u001b[39m])[[\u001b[38;5;124m'\u001b[39m\u001b[38;5;124mrank\u001b[39m\u001b[38;5;124m'\u001b[39m]]\u001b[38;5;241m.\u001b[39mmean()\u001b[38;5;241m.\u001b[39mdropna()\u001b[38;5;241m.\u001b[39mreset_index()\n\u001b[0;32m----> 2\u001b[0m pc \u001b[38;5;241m=\u001b[39m \u001b[43msp\u001b[49m\u001b[38;5;241;43m.\u001b[39;49m\u001b[43mposthoc_nemenyi_friedman\u001b[49m\u001b[43m(\u001b[49m\u001b[43mnemenyi_df\u001b[49m\u001b[43m,\u001b[49m\u001b[43m \u001b[49m\u001b[43my_col\u001b[49m\u001b[38;5;241;43m=\u001b[39;49m\u001b[38;5;124;43m'\u001b[39;49m\u001b[38;5;124;43mrank\u001b[39;49m\u001b[38;5;124;43m'\u001b[39;49m\u001b[43m,\u001b[49m\u001b[43m \u001b[49m\u001b[43mgroup_col\u001b[49m\u001b[38;5;241;43m=\u001b[39;49m\u001b[38;5;124;43m'\u001b[39;49m\u001b[38;5;124;43mad\u001b[39;49m\u001b[38;5;124;43m'\u001b[39;49m\u001b[43m,\u001b[49m\u001b[43m \u001b[49m\u001b[43mblock_col\u001b[49m\u001b[38;5;241;43m=\u001b[39;49m\u001b[38;5;124;43m'\u001b[39;49m\u001b[38;5;124;43mdataset_name\u001b[39;49m\u001b[38;5;124;43m'\u001b[39;49m\u001b[43m,\u001b[49m\u001b[43m \u001b[49m\u001b[43mmelted\u001b[49m\u001b[38;5;241;43m=\u001b[39;49m\u001b[38;5;28;43;01mTrue\u001b[39;49;00m\u001b[43m)\u001b[49m\n\u001b[1;32m      3\u001b[0m heatmap_args \u001b[38;5;241m=\u001b[39m {\u001b[38;5;124m'\u001b[39m\u001b[38;5;124mlinewidths\u001b[39m\u001b[38;5;124m'\u001b[39m: \u001b[38;5;241m0.25\u001b[39m, \u001b[38;5;124m'\u001b[39m\u001b[38;5;124mlinecolor\u001b[39m\u001b[38;5;124m'\u001b[39m: \u001b[38;5;124m'\u001b[39m\u001b[38;5;124m0.5\u001b[39m\u001b[38;5;124m'\u001b[39m, \u001b[38;5;124m'\u001b[39m\u001b[38;5;124mclip_on\u001b[39m\u001b[38;5;124m'\u001b[39m: \u001b[38;5;28;01mFalse\u001b[39;00m, \u001b[38;5;124m'\u001b[39m\u001b[38;5;124msquare\u001b[39m\u001b[38;5;124m'\u001b[39m: \u001b[38;5;28;01mTrue\u001b[39;00m, \u001b[38;5;124m'\u001b[39m\u001b[38;5;124mcbar_ax_bbox\u001b[39m\u001b[38;5;124m'\u001b[39m: [\u001b[38;5;241m0.80\u001b[39m, \u001b[38;5;241m0.35\u001b[39m, \u001b[38;5;241m0.04\u001b[39m, \u001b[38;5;241m0.3\u001b[39m]}\n\u001b[1;32m      4\u001b[0m fig \u001b[38;5;241m=\u001b[39m sp\u001b[38;5;241m.\u001b[39msign_plot(pc, \u001b[38;5;241m*\u001b[39m\u001b[38;5;241m*\u001b[39mheatmap_args)\n",
      "File \u001b[0;32m/mnt/d/keras/lib/python3.9/site-packages/scikit_posthocs/_posthocs.py:604\u001b[0m, in \u001b[0;36mposthoc_nemenyi_friedman\u001b[0;34m(a, y_col, group_col, block_col, block_id_col, melted, sort)\u001b[0m\n\u001b[1;32m    601\u001b[0m     qval \u001b[38;5;241m=\u001b[39m dif \u001b[38;5;241m/\u001b[39m np\u001b[38;5;241m.\u001b[39msqrt(k \u001b[38;5;241m*\u001b[39m (k \u001b[38;5;241m+\u001b[39m \u001b[38;5;241m1.0\u001b[39m) \u001b[38;5;241m/\u001b[39m (\u001b[38;5;241m6.0\u001b[39m \u001b[38;5;241m*\u001b[39m n))\n\u001b[1;32m    602\u001b[0m     \u001b[38;5;28;01mreturn\u001b[39;00m qval\n\u001b[0;32m--> 604\u001b[0m x, _y_col, _group_col, _block_col, _block_id_col \u001b[38;5;241m=\u001b[39m \u001b[43m__convert_to_block_df\u001b[49m\u001b[43m(\u001b[49m\n\u001b[1;32m    605\u001b[0m \u001b[43m    \u001b[49m\u001b[43ma\u001b[49m\u001b[43m,\u001b[49m\u001b[43m \u001b[49m\u001b[43my_col\u001b[49m\u001b[43m,\u001b[49m\u001b[43m \u001b[49m\u001b[43mgroup_col\u001b[49m\u001b[43m,\u001b[49m\u001b[43m \u001b[49m\u001b[43mblock_col\u001b[49m\u001b[43m,\u001b[49m\u001b[43m \u001b[49m\u001b[43mblock_id_col\u001b[49m\u001b[43m,\u001b[49m\u001b[43m \u001b[49m\u001b[43mmelted\u001b[49m\n\u001b[1;32m    606\u001b[0m \u001b[43m\u001b[49m\u001b[43m)\u001b[49m\n\u001b[1;32m    607\u001b[0m x \u001b[38;5;241m=\u001b[39m x\u001b[38;5;241m.\u001b[39msort_values(by\u001b[38;5;241m=\u001b[39m[_group_col, _block_col], ascending\u001b[38;5;241m=\u001b[39m\u001b[38;5;28;01mTrue\u001b[39;00m) \u001b[38;5;28;01mif\u001b[39;00m sort \u001b[38;5;28;01melse\u001b[39;00m x\n\u001b[1;32m    608\u001b[0m x\u001b[38;5;241m.\u001b[39mdropna(inplace\u001b[38;5;241m=\u001b[39m\u001b[38;5;28;01mTrue\u001b[39;00m)\n",
      "File \u001b[0;32m/mnt/d/keras/lib/python3.9/site-packages/scikit_posthocs/_posthocs.py:139\u001b[0m, in \u001b[0;36m__convert_to_block_df\u001b[0;34m(a, y_col, group_col, block_col, block_id_col, melted)\u001b[0m\n\u001b[1;32m    137\u001b[0m \u001b[38;5;28;01melif\u001b[39;00m \u001b[38;5;28misinstance\u001b[39m(a, DataFrame) \u001b[38;5;129;01mand\u001b[39;00m melted:\n\u001b[1;32m    138\u001b[0m     \u001b[38;5;28;01mif\u001b[39;00m a[block_col]\u001b[38;5;241m.\u001b[39mduplicated()\u001b[38;5;241m.\u001b[39msum() \u001b[38;5;241m>\u001b[39m \u001b[38;5;241m0\u001b[39m \u001b[38;5;129;01mand\u001b[39;00m \u001b[38;5;129;01mnot\u001b[39;00m block_id_col:\n\u001b[0;32m--> 139\u001b[0m         \u001b[38;5;28;01mraise\u001b[39;00m \u001b[38;5;167;01mValueError\u001b[39;00m(\n\u001b[1;32m    140\u001b[0m             \u001b[38;5;124m\"\u001b[39m\u001b[38;5;124m`block_col` contains duplicated entries, `block_id_col` should be explicitly specified\u001b[39m\u001b[38;5;124m\"\u001b[39m\n\u001b[1;32m    141\u001b[0m         )\n\u001b[1;32m    143\u001b[0m     x \u001b[38;5;241m=\u001b[39m DataFrame\u001b[38;5;241m.\u001b[39mfrom_dict(\n\u001b[1;32m    144\u001b[0m         {new_group_col: a[group_col], new_block_col: a[block_col], new_y_col: a[y_col], new_block_id_col: a[block_id_col]}\n\u001b[1;32m    145\u001b[0m     )\n\u001b[1;32m    147\u001b[0m \u001b[38;5;28;01melse\u001b[39;00m:\n",
      "\u001b[0;31mValueError\u001b[0m: `block_col` contains duplicated entries, `block_id_col` should be explicitly specified"
     ]
    }
   ],
   "source": [
    "nemenyi_df = df.groupby(['ad', 'dataset_name'])[['rank']].mean().dropna().reset_index()\n",
    "pc = sp.posthoc_nemenyi_friedman(nemenyi_df, y_col='rank', group_col='ad', block_col='dataset_name', melted=True)\n",
    "heatmap_args = {'linewidths': 0.25, 'linecolor': '0.5', 'clip_on': False, 'square': True, 'cbar_ax_bbox': [0.80, 0.35, 0.04, 0.3]}\n",
    "fig = sp.sign_plot(pc, **heatmap_args)"
   ]
  },
  {
   "cell_type": "code",
   "execution_count": null,
   "metadata": {},
   "outputs": [
    {
     "data": {
      "image/png": "[encoded data removed]",
      "text/plain": [
       "<Figure size 432x288 with 2 Axes>"
      ]
     },
     "metadata": {
      "image/png": {
       "height": 299,
       "width": 384
      },
      "needs_background": "light"
     },
     "output_type": "display_data"
    }
   ],
   "source": [
    "dunn_df = df.groupby(['ad', 'dataset_name'])['rank'].mean().dropna().reset_index()\n",
    "pc = sp.posthoc_dunn(dunn_df, val_col='rank', group_col='ad', p_adjust='bonferroni')\n",
    "heatmap_args = {'linewidths': 0.25, 'linecolor': '0.5', 'clip_on': False, 'square': True, 'cbar_ax_bbox': [0.80, 0.35, 0.04, 0.3]}\n",
    "fig = sp.sign_plot(pc, **heatmap_args)"
   ]
  },
  {
   "cell_type": "markdown",
   "metadata": {},
   "source": [
    "## Result table featured in the paper (Table 2)"
   ]
  },
  {
   "cell_type": "code",
   "execution_count": 63,
   "metadata": {},
   "outputs": [
    {
     "name": "stderr",
     "output_type": "stream",
     "text": [
      "/tmp/ipykernel_22580/3255890081.py:9: FutureWarning: The previous implementation of stack is deprecated and will be removed in a future version of pandas. See the What's New notes for pandas 2.1.0 for details. Specify future_stack=True to adopt the new implementation and silence this warning.\n",
      "  df = df.stack(1).stack(1).reset_index()\n",
      "/tmp/ipykernel_22580/3255890081.py:9: FutureWarning: The previous implementation of stack is deprecated and will be removed in a future version of pandas. See the What's New notes for pandas 2.1.0 for details. Specify future_stack=True to adopt the new implementation and silence this warning.\n",
      "  df = df.stack(1).stack(1).reset_index()\n",
      "/tmp/ipykernel_22580/3255890081.py:12: FutureWarning: The provided callable <function mean at 0x7f149970a1f0> is currently using DataFrameGroupBy.mean. In a future version of pandas, the provided callable will be used directly. To keep current behavior pass the string \"mean\" instead.\n",
      "  df = pd.pivot_table(df, index=['axis', 'ad'], columns=['process_model'], values=['f1'], aggfunc=np.mean)\n"
     ]
    },
    {
     "data": {
      "text/html": [
       "<div>\n",
       "<style scoped>\n",
       "    .dataframe tbody tr th:only-of-type {\n",
       "        vertical-align: middle;\n",
       "    }\n",
       "\n",
       "    .dataframe tbody tr th {\n",
       "        vertical-align: top;\n",
       "    }\n",
       "\n",
       "    .dataframe thead tr th {\n",
       "        text-align: left;\n",
       "    }\n",
       "\n",
       "    .dataframe thead tr:last-of-type th {\n",
       "        text-align: right;\n",
       "    }\n",
       "</style>\n",
       "<table border=\"1\" class=\"dataframe\">\n",
       "  <thead>\n",
       "    <tr>\n",
       "      <th></th>\n",
       "      <th></th>\n",
       "      <th colspan=\"4\" halign=\"left\">f1</th>\n",
       "    </tr>\n",
       "    <tr>\n",
       "      <th></th>\n",
       "      <th>process_model</th>\n",
       "      <th>Medium</th>\n",
       "      <th>P2P</th>\n",
       "      <th>Paper</th>\n",
       "      <th>Small</th>\n",
       "    </tr>\n",
       "    <tr>\n",
       "      <th>axis</th>\n",
       "      <th>ad</th>\n",
       "      <th></th>\n",
       "      <th></th>\n",
       "      <th></th>\n",
       "      <th></th>\n",
       "    </tr>\n",
       "  </thead>\n",
       "  <tbody>\n",
       "    <tr>\n",
       "      <th rowspan=\"3\" valign=\"top\">Attribute</th>\n",
       "      <th>dae</th>\n",
       "      <td>0.23</td>\n",
       "      <td>0.23</td>\n",
       "      <td>0.05</td>\n",
       "      <td>0.25</td>\n",
       "    </tr>\n",
       "    <tr>\n",
       "      <th>naive</th>\n",
       "      <td>0.13</td>\n",
       "      <td>0.15</td>\n",
       "      <td>0.04</td>\n",
       "      <td>0.14</td>\n",
       "    </tr>\n",
       "    <tr>\n",
       "      <th>sampling</th>\n",
       "      <td>0.32</td>\n",
       "      <td>0.33</td>\n",
       "      <td>0.03</td>\n",
       "      <td>0.33</td>\n",
       "    </tr>\n",
       "    <tr>\n",
       "      <th rowspan=\"3\" valign=\"top\">Case</th>\n",
       "      <th>dae</th>\n",
       "      <td>0.37</td>\n",
       "      <td>0.54</td>\n",
       "      <td>0.27</td>\n",
       "      <td>0.52</td>\n",
       "    </tr>\n",
       "    <tr>\n",
       "      <th>naive</th>\n",
       "      <td>0.40</td>\n",
       "      <td>0.48</td>\n",
       "      <td>0.13</td>\n",
       "      <td>0.48</td>\n",
       "    </tr>\n",
       "    <tr>\n",
       "      <th>sampling</th>\n",
       "      <td>0.47</td>\n",
       "      <td>0.49</td>\n",
       "      <td>0.12</td>\n",
       "      <td>0.49</td>\n",
       "    </tr>\n",
       "  </tbody>\n",
       "</table>\n",
       "</div>"
      ],
      "text/plain": [
       "                       f1                  \n",
       "process_model      Medium   P2P Paper Small\n",
       "axis      ad                               \n",
       "Attribute dae        0.23  0.23  0.05  0.25\n",
       "          naive      0.13  0.15  0.04  0.14\n",
       "          sampling   0.32  0.33  0.03  0.33\n",
       "Case      dae        0.37  0.54  0.27  0.52\n",
       "          naive      0.40  0.48  0.13  0.48\n",
       "          sampling   0.47  0.49  0.12  0.49"
      ]
     },
     "execution_count": 63,
     "metadata": {},
     "output_type": "execute_result"
    }
   ],
   "source": [
    "df = filtered_evaluation.query('axis in [0, 2]')\n",
    "df = prettify_dataframe(df)\n",
    "df = df.groupby(['axis', 'process_model', 'dataset_name', 'ad', 'file_name', 'perspective'])[['precision', 'recall', 'f1']].mean().reset_index()\n",
    "df = df.groupby(['axis', 'process_model', 'dataset_name', 'ad', 'file_name'])[['precision', 'recall', 'f1']].mean().reset_index()\n",
    "df['f1'] = 2 * df['recall'] * df['precision'] / (df['recall'] + df['precision'])\n",
    "\n",
    "df = pd.pivot_table(df, index=['axis', 'ad'], columns=['process_model', 'dataset_name'], values=['precision', 'recall', 'f1'])\n",
    "df = df.fillna(0)\n",
    "df = df.stack(1).stack(1).reset_index()\n",
    "df.to_excel(str(out_dir / 'table.xlsx'), index=False)\n",
    "\n",
    "df = pd.pivot_table(df, index=['axis', 'ad'], columns=['process_model'], values=['f1'], aggfunc=np.mean)\n",
    "df.round(2)"
   ]
  },
  {
   "cell_type": "code",
   "execution_count": null,
   "metadata": {},
   "outputs": [],
   "source": []
  }
 ],
 "metadata": {
  "kernelspec": {
   "display_name": "Python 3",
   "language": "python",
   "name": "python3"
  },
  "language_info": {
   "codemirror_mode": {
    "name": "ipython",
    "version": 3
   },
   "file_extension": ".py",
   "mimetype": "text/x-python",
   "name": "python",
   "nbconvert_exporter": "python",
   "pygments_lexer": "ipython3",
   "version": "3.9.21"
  }
 },
 "nbformat": 4,
 "nbformat_minor": 2
}

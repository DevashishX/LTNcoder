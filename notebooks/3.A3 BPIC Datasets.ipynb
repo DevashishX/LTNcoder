{
 "cells": [
  {
   "cell_type": "code",
   "metadata": {
    "ExecuteTime": {
     "end_time": "2025-03-15T11:09:50.645227Z",
     "start_time": "2025-03-15T11:09:50.296932Z"
    }
   },
   "source": [
    "import os\n",
    "import itertools\n",
    "from tqdm import tqdm\n",
    "\n",
    "from april.fs import BPIC_DIR\n",
    "from april.fs import EVENTLOG_DIR\n",
    "from april.fs import EventLogFile\n",
    "from april.fs import get_event_log_files\n",
    "from april.generation import CategoricalAttributeGenerator\n",
    "from april.generation.anomaly import *\n",
    "from april.processmining.log import EventLog"
   ],
   "outputs": [],
   "execution_count": 1
  },
  {
   "cell_type": "markdown",
   "metadata": {},
   "source": [
    "## Transform BPIC XES Files"
   ]
  },
  {
   "cell_type": "markdown",
   "metadata": {},
   "source": [
    "First we have to transform the BPIC XES files to JSON format."
   ]
  },
  {
   "cell_type": "code",
   "metadata": {
    "ExecuteTime": {
     "end_time": "2025-03-15T10:35:34.208888Z",
     "start_time": "2025-03-15T10:32:28.430454Z"
    }
   },
   "source": [
    "xes_files = [\n",
    "    'BPIC12.xes.gz',\n",
    "    'BPIC13_closed_problems.xes.gz',\n",
    "    'BPIC13_incidents.xes.gz',\n",
    "    'BPIC13_open_problems.xes.gz',\n",
    "    'BPIC15_1.xes.gz',\n",
    "    'BPIC15_2.xes.gz',\n",
    "    'BPIC15_3.xes.gz',\n",
    "    'BPIC15_4.xes.gz',\n",
    "    'BPIC15_5.xes.gz',\n",
    "    'BPIC17.xes.gz',\n",
    "    'BPIC17_offer_log.xes.gz'\n",
    "]\n",
    "\n",
    "json_files = [\n",
    "    'bpic12-0.0-1.json.gz',\n",
    "    'bpic13-0.0-1.json.gz',\n",
    "    'bpic13-0.0-2.json.gz',\n",
    "    'bpic13-0.0-3.json.gz',\n",
    "    'bpic15-0.0-1.json.gz',\n",
    "    'bpic15-0.0-2.json.gz',\n",
    "    'bpic15-0.0-3.json.gz',\n",
    "    'bpic15-0.0-4.json.gz',\n",
    "    'bpic15-0.0-5.json.gz',\n",
    "    'bpic17-0.0-1.json.gz',\n",
    "    'bpic17-0.0-2.json.gz'\n",
    "]\n",
    "\n",
    "for xes_file, json_file in tqdm(list(zip(xes_files, json_files))):\n",
    "    event_log = EventLog.from_xes(os.path.join(BPIC_DIR, xes_file))\n",
    "    event_log.save_json(os.path.join(EVENTLOG_DIR, json_file))"
   ],
   "outputs": [
    {
     "name": "stderr",
     "output_type": "stream",
     "text": [
      "100%|██████████| 11/11 [03:05<00:00, 16.89s/it]\n"
     ]
    }
   ],
   "execution_count": 2
  },
  {
   "cell_type": "markdown",
   "metadata": {},
   "source": [
    "## Add Anomalies"
   ]
  },
  {
   "cell_type": "markdown",
   "metadata": {},
   "source": [
    "Now, we can use the transformed logs to add the anomalies."
   ]
  },
  {
   "cell_type": "code",
   "metadata": {
    "ExecuteTime": {
     "end_time": "2025-03-15T11:12:19.305103Z",
     "start_time": "2025-03-15T11:09:53.028299Z"
    }
   },
   "source": [
    "np.random.seed(0)  # This will ensure reproducibility\n",
    "ps = [0.3]\n",
    "event_log_paths = [e.path for e in get_event_log_files(EVENTLOG_DIR) if 'bpic' in e.name and e.p == 0.0]\n",
    "\n",
    "combinations = list(itertools.product(event_log_paths, ps))\n",
    "for event_log_path, p in tqdm(combinations, desc='Add anomalies'):\n",
    "    event_log_file = EventLogFile(event_log_path)\n",
    "    event_log = EventLog.from_json(event_log_path)\n",
    "\n",
    "    anomalies = [\n",
    "        SkipSequenceAnomaly(max_sequence_size=2),\n",
    "        ReworkAnomaly(max_distance=5, max_sequence_size=3),\n",
    "        EarlyAnomaly(max_distance=5, max_sequence_size=2),\n",
    "        LateAnomaly(max_distance=5, max_sequence_size=2),\n",
    "        InsertAnomaly(max_inserts=2),\n",
    "    ]\n",
    "\n",
    "    if event_log.num_event_attributes > 1:\n",
    "        anomalies.append(AttributeAnomaly(max_events=3, max_attributes=min(2, event_log.num_activities)))\n",
    "\n",
    "    for anomaly in anomalies:\n",
    "        # This is necessary to initialize the likelihood graph correctly\n",
    "        anomaly.activities = event_log.unique_activities\n",
    "        anomaly.attributes = [CategoricalAttributeGenerator(name=name, values=values) for name, values in\n",
    "                              event_log.unique_attribute_values.items() if name != 'name']\n",
    "\n",
    "    for case in tqdm(event_log):\n",
    "        if np.random.uniform(0, 1) <= p:\n",
    "            anomaly = np.random.choice(anomalies)\n",
    "            anomaly.apply_to_case(case)\n",
    "        else:\n",
    "            NoneAnomaly().apply_to_case(case)\n",
    "\n",
    "    event_log.save_json(str(EVENTLOG_DIR / f'{event_log_file.model}-{p}-{event_log_file.id}.json.gz'))"
   ],
   "outputs": [
    {
     "name": "stderr",
     "output_type": "stream",
     "text": [
      "Add anomalies:   0%|          | 0/11 [00:00<?, ?it/s]\n",
      "  0%|          | 0/13087 [00:00<?, ?it/s]\u001B[A\n",
      " 46%|████▌     | 5969/13087 [00:00<00:00, 59626.80it/s]\u001B[A\n",
      "100%|██████████| 13087/13087 [00:00<00:00, 60590.82it/s]\u001B[A\n",
      "Add anomalies:   9%|▉         | 1/11 [00:15<02:37, 15.73s/it]\n",
      "100%|██████████| 1487/1487 [00:00<00:00, 70413.32it/s]\n",
      "Add anomalies:  18%|█▊        | 2/11 [00:16<01:02,  6.94s/it]\n",
      "  0%|          | 0/7554 [00:00<?, ?it/s]\u001B[A\n",
      " 44%|████▍     | 3359/7554 [00:00<00:00, 29634.59it/s]\u001B[A\n",
      "100%|██████████| 7554/7554 [00:00<00:00, 30847.17it/s]\u001B[A\n",
      "Add anomalies:  27%|██▋       | 3/11 [00:22<00:52,  6.50s/it]\n",
      "100%|██████████| 819/819 [00:00<00:00, 53444.34it/s]\n",
      "Add anomalies:  36%|███▋      | 4/11 [00:22<00:28,  4.06s/it]\n",
      "100%|██████████| 1199/1199 [00:00<00:00, 38375.61it/s]\n",
      "Add anomalies:  45%|████▌     | 5/11 [00:27<00:25,  4.33s/it]\n",
      "100%|██████████| 832/832 [00:00<00:00, 37564.03it/s]\n",
      "Add anomalies:  55%|█████▍    | 6/11 [00:31<00:21,  4.23s/it]\n",
      "100%|██████████| 1409/1409 [00:00<00:00, 44571.46it/s]\n",
      "Add anomalies:  64%|██████▎   | 7/11 [00:37<00:18,  4.71s/it]\n",
      "100%|██████████| 1053/1053 [00:00<00:00, 33687.26it/s]\n",
      "Add anomalies:  73%|███████▎  | 8/11 [00:41<00:13,  4.60s/it]\n",
      "100%|██████████| 1156/1156 [00:00<00:00, 35749.37it/s]\n",
      "Add anomalies:  82%|████████▏ | 9/11 [00:47<00:09,  4.89s/it]\n",
      "  0%|          | 0/31509 [00:00<?, ?it/s]\u001B[A\n",
      " 14%|█▍        | 4472/31509 [00:00<00:00, 38670.97it/s]\u001B[A\n",
      " 27%|██▋       | 8441/31509 [00:00<00:00, 39151.45it/s]\u001B[A\n",
      " 39%|███▉      | 12360/31509 [00:00<00:00, 38235.21it/s]\u001B[A\n",
      " 51%|█████▏    | 16221/31509 [00:00<00:00, 38336.03it/s]\u001B[A\n",
      " 67%|██████▋   | 21139/31509 [00:00<00:00, 39976.53it/s]\u001B[A\n",
      " 80%|███████▉  | 25127/31509 [00:00<00:00, 39934.37it/s]\u001B[A\n",
      "100%|██████████| 31509/31509 [00:00<00:00, 39941.21it/s]\u001B[A\n",
      "Add anomalies:  91%|█████████ | 10/11 [02:07<00:28, 28.04s/it]\n",
      "  0%|          | 0/42995 [00:00<?, ?it/s]\u001B[A\n",
      " 11%|█         | 4607/42995 [00:00<00:00, 45776.46it/s]\u001B[A\n",
      " 22%|██▏       | 9572/42995 [00:00<00:00, 44063.49it/s]\u001B[A\n",
      " 34%|███▍      | 14621/42995 [00:00<00:00, 45703.33it/s]\u001B[A\n",
      " 46%|████▌     | 19668/42995 [00:00<00:00, 47451.61it/s]\u001B[A\n",
      " 58%|█████▊    | 25150/42995 [00:00<00:00, 47452.34it/s]\u001B[A\n",
      " 70%|██████▉   | 29904/42995 [00:00<00:00, 47316.48it/s]\u001B[A\n",
      " 81%|████████▏ | 35039/42995 [00:00<00:00, 46378.37it/s]\u001B[A\n",
      "100%|██████████| 42995/42995 [00:00<00:00, 46637.24it/s]\u001B[A\n",
      "Add anomalies: 100%|██████████| 11/11 [02:26<00:00, 13.30s/it]\n"
     ]
    }
   ],
   "execution_count": 2
  }
 ],
 "metadata": {
  "kernelspec": {
   "display_name": "Python 3",
   "language": "python",
   "name": "python3"
  },
  "language_info": {
   "codemirror_mode": {
    "name": "ipython",
    "version": 3
   },
   "file_extension": ".py",
   "mimetype": "text/x-python",
   "name": "python",
   "nbconvert_exporter": "python",
   "pygments_lexer": "ipython3",
   "version": "3.6.8"
  }
 },
 "nbformat": 4,
 "nbformat_minor": 2
}

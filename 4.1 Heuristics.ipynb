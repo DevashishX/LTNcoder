{
 "cells": [
  {
   "cell_type": "code",
   "execution_count": 1,
   "metadata": {
    "ExecuteTime": {
     "end_time": "2025-03-15T15:23:57.708152Z",
     "start_time": "2025-03-15T15:23:57.116132Z"
    }
   },
   "outputs": [],
   "source": [
    "from matplotlib import pyplot as plt\n",
    "from matplotlib.lines import Line2D \n",
    "import numpy as np\n",
    "import pandas as pd\n",
    "import seaborn as sns\n",
    "import sklearn as sk\n",
    "from tqdm import tqdm\n",
    "\n",
    "from april import Evaluator\n",
    "from april.anomalydetection.utils import anomaly_ratio\n",
    "from april.anomalydetection.utils import label_collapse\n",
    "from april.enums import Axis\n",
    "from april.enums import Heuristic\n",
    "from april.fs import get_model_files\n",
    "from april.fs import PLOT_DIR\n",
    "from april.utils import microsoft_colors\n",
    "\n",
    "%config InlineBackend.figure_format = 'retina'"
   ]
  },
  {
   "cell_type": "code",
   "execution_count": 2,
   "metadata": {
    "ExecuteTime": {
     "end_time": "2025-03-15T15:23:59.029125Z",
     "start_time": "2025-03-15T15:23:59.008454Z"
    }
   },
   "outputs": [],
   "source": [
    "out_dir = PLOT_DIR / 'isj-2019'"
   ]
  },
  {
   "cell_type": "markdown",
   "metadata": {},
   "source": [
    "## Plot function"
   ]
  },
  {
   "cell_type": "code",
   "execution_count": 3,
   "metadata": {
    "ExecuteTime": {
     "end_time": "2025-03-15T15:24:02.118971Z",
     "start_time": "2025-03-15T15:24:02.103340Z"
    }
   },
   "outputs": [],
   "source": [
    "def plot(evaluator, axis=0, attr_index=0, steps=20):\n",
    "    binarizer = evaluator.binarizer\n",
    "    targets = label_collapse(binarizer.get_targets(axis=2)[:, :, attr_index:attr_index + 1], axis=axis).compressed()\n",
    "    scores = binarizer.mask(evaluator.result.scores)[:, :, attr_index:attr_index + 1]\n",
    "    taus = binarizer.get_candidate_taus(scores, axis=axis)\n",
    "    predictions = [binarizer.threshold_binarize(tau, scores, axis=axis) for tau in taus]\n",
    "    \n",
    "    # F1 scores\n",
    "    prfs = [sk.metrics.precision_recall_fscore_support(targets, p.compressed(), average='binary', pos_label=1) for p in predictions]\n",
    "    \n",
    "    # Anomaly ratio and derivatives\n",
    "    step = taus[1:] - taus[:-1]\n",
    "    r = np.array([anomaly_ratio(p) for p in predictions])\n",
    "    r_prime = (r[1:] - r[:-1]) / step\n",
    "    r_prime = np.pad(r_prime, (0, 1), mode='constant')\n",
    "    r_prime_prime = (r[2:] - 2 * r[1:-1] + r[:-2]) / (step[1:] * step[:-1])\n",
    "    r_prime_prime = np.pad(r_prime_prime, (1, 1), mode='constant')\n",
    "    \n",
    "    # Set up figure\n",
    "    fig, g = plt.subplots(figsize=(6, 2.5))\n",
    "    \n",
    "    # Indicate plateau regions\n",
    "    import matplotlib.transforms as mtransforms\n",
    "    trans = mtransforms.blended_transform_factory(g.transData, g.transAxes)\n",
    "    g.fill_between(taus, 0, 1, where=r_prime > np.mean(r_prime) / 2, color='#64b5f6', alpha=0.1, transform=trans)\n",
    "    \n",
    "    f = r'$f$'\n",
    "    x = r'$\\tau$'\n",
    "    y = r'$f(\\cdot)$'\n",
    "\n",
    "    r = pd.DataFrame({x: taus, f: r'$r$', y: r})\n",
    "    r_prime = pd.DataFrame({x: taus, f: r\"$r'$\", y: r_prime})\n",
    "    r_prime_prime = pd.DataFrame({x: taus, f: r\"$r''$\", y: r_prime_prime})\n",
    "    \n",
    "    precision = pd.DataFrame({x: taus, f: r'$Precision$', y: [p[0] for p in prfs]})\n",
    "    recall = pd.DataFrame({x: taus, f: r'$Recall$', y: [p[1] for p in prfs]})\n",
    "    f1 = pd.DataFrame({x: taus, f: r'$F_1$', y: [p[2] for p in prfs]})\n",
    "    \n",
    "    df = pd.concat([r, precision, recall])\n",
    "    \n",
    "    # Set candidate thresholds as minor grid\n",
    "    g.set_xticks(taus, minor=True)\n",
    "    g.xaxis.grid(True, which='minor', linestyle='dotted')\n",
    "\n",
    "    g = sns.lineplot(data=df, x=x, y=y, hue=f, ax=g)\n",
    "    \n",
    "    handles, labels = g.get_legend_handles_labels()\n",
    "    handles = handles[1:]\n",
    "    labels = labels[1:]\n",
    "    for i, h in enumerate(['elbow', 'broken_elbow', 'stable_left', 'stable_mean', 'stable_right']):\n",
    "        linestyle = '--'\n",
    "        if h == 'best':\n",
    "            linestyle = '-.'\n",
    "        if 'elbow' in h:\n",
    "            linestyle = ':'\n",
    "        t = binarizer.get_tau(evaluator.result.scores, heuristic=h, strategy='attribute', axis=axis)[attr_index]\n",
    "        handles.append(Line2D([0], [0], color=sns.color_palette()[i], linestyle=linestyle))\n",
    "        labels.append(Heuristic.items().get(h))\n",
    "        g.axvline(t, 0, linestyle=linestyle, color=sns.color_palette()[i])\n",
    "    \n",
    "    attr = e.dataset.attribute_keys[attr_index]\n",
    "    if attr == 'name':\n",
    "        attr = 'activity'\n",
    "#     g.set_title(f'{e.ad_.name} on {e.eventlog_name} | axis={Axis.items().get(axis)} | attr={attr}')\n",
    "    g.set_title('')\n",
    "    g.legend(handles, labels, bbox_to_anchor=(1.02, 1.02), loc=2, frameon=False)\n",
    "    \n",
    "    return fig, r, r_prime, r_prime_prime"
   ]
  },
  {
   "cell_type": "markdown",
   "metadata": {},
   "source": [
    "## Plot featured in the paper (Figure 7)"
   ]
  },
  {
   "cell_type": "code",
   "execution_count": 4,
   "metadata": {
    "ExecuteTime": {
     "end_time": "2025-03-15T15:24:06.501007Z",
     "start_time": "2025-03-15T15:24:06.483321Z"
    }
   },
   "outputs": [
    {
     "name": "stdout",
     "output_type": "stream",
     "text": [
      "[]\n"
     ]
    },
    {
     "name": "stderr",
     "output_type": "stream",
     "text": [
      "0it [00:00, ?it/s]\n"
     ]
    }
   ],
   "source": [
    "models = [m for m in get_model_files() if m.ad == 'binetv1' and m.id == 1 and m.model == 'paper']\n",
    "print(models)\n",
    "for model in tqdm(models[:1]):\n",
    "    e = Evaluator(model)\n",
    "    binarizer = e.binarizer\n",
    "    for axis in [2]:\n",
    "        fig, r, rp, rpp = plot(e, attr_index=0, axis=axis)\n",
    "        fig.tight_layout()\n",
    "        fig.savefig(str(out_dir / 'heuristics.pdf'))"
   ]
  }
 ],
 "metadata": {
  "kernelspec": {
   "display_name": "Python 3",
   "language": "python",
   "name": "python3"
  },
  "language_info": {
   "codemirror_mode": {
    "name": "ipython",
    "version": 3
   },
   "file_extension": ".py",
   "mimetype": "text/x-python",
   "name": "python",
   "nbconvert_exporter": "python",
   "pygments_lexer": "ipython3",
   "version": "3.9.21"
  }
 },
 "nbformat": 4,
 "nbformat_minor": 2
}

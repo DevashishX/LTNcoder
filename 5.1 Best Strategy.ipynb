{
 "cells": [
  {
   "cell_type": "code",
   "execution_count": 1,
   "metadata": {
    "ExecuteTime": {
     "end_time": "2025-03-15T15:24:33.842459Z",
     "start_time": "2025-03-15T15:24:33.203953Z"
    }
   },
   "outputs": [],
   "source": [
    "import matplotlib.pyplot as plt\n",
    "import pandas as pd\n",
    "import seaborn as sns\n",
    "from sqlalchemy.orm import Session\n",
    "\n",
    "from april.database import get_engine\n",
    "from april.fs import PLOT_DIR\n",
    "from april.utils import microsoft_colors\n",
    "from april.utils import prettify_dataframe\n",
    "from april.enums import Base, Heuristic, Axis\n",
    "\n",
    "sns.set_style('white')\n",
    "pd.set_option('display.max_rows', 20)\n",
    "%config InlineBackend.figure_format = 'retina'"
   ]
  },
  {
   "cell_type": "code",
   "execution_count": 2,
   "metadata": {
    "ExecuteTime": {
     "end_time": "2025-03-15T15:24:33.858084Z",
     "start_time": "2025-03-15T15:24:33.842459Z"
    }
   },
   "outputs": [],
   "source": [
    "out_dir = PLOT_DIR / 'isj-2019'\n",
    "eval_file = out_dir / 'eval.pkl'"
   ]
  },
  {
   "cell_type": "markdown",
   "metadata": {},
   "source": [
    "### Helper objects"
   ]
  },
  {
   "cell_type": "code",
   "execution_count": 3,
   "metadata": {
    "ExecuteTime": {
     "end_time": "2025-03-15T15:24:34.086273Z",
     "start_time": "2025-03-15T15:24:34.066458Z"
    }
   },
   "outputs": [],
   "source": [
    "synth_datasets = ['paper', 'p2p', 'small', 'medium', 'large', 'huge', 'gigantic', 'wide']\n",
    "bpic_datasets = ['bpic12', 'bpic13', 'bpic15', 'bpic17']\n",
    "anonymous_datasets = ['real']\n",
    "datasets = synth_datasets + bpic_datasets + anonymous_datasets\n",
    "dataset_types = ['Synthetic', 'Real-life']\n",
    "\n",
    "binet_ads = [\"BINetv1\", \"BINetv2\", \"BINetv3\"]\n",
    "nn_ads = [\"DAE\"] + binet_ads\n",
    "h_ads = nn_ads + [ \"Likelihood+\", \"t-STIDE+\", \"Naive+\"]\n",
    "d_ads = [\"Naive\", \"Sampling\", \"Likelihood\", \"OC-SVM\"]\n",
    "ads = h_ads + d_ads\n",
    "\n",
    "heuristics = [r'$best$', r'$default$', r'$elbow_\\downarrow$', r'$elbow_\\uparrow$', \n",
    "              r'$lp_\\leftarrow$', r'$lp_\\leftrightarrow$', r'$lp_\\rightarrow$']"
   ]
  },
  {
   "cell_type": "markdown",
   "metadata": {},
   "source": [
    "## Retrieve evaluations from pickle file"
   ]
  },
  {
   "cell_type": "code",
   "execution_count": 4,
   "metadata": {
    "ExecuteTime": {
     "end_time": "2025-03-15T15:24:34.374955Z",
     "start_time": "2025-03-15T15:24:34.101895Z"
    }
   },
   "outputs": [],
   "source": [
    "evaluation = pd.read_pickle(eval_file)"
   ]
  },
  {
   "cell_type": "markdown",
   "metadata": {},
   "source": [
    "### Add identifier for BPIC datasets and filter for ADs"
   ]
  },
  {
   "cell_type": "code",
   "execution_count": 5,
   "metadata": {
    "ExecuteTime": {
     "end_time": "2025-03-15T15:24:34.490235Z",
     "start_time": "2025-03-15T15:24:34.394172Z"
    }
   },
   "outputs": [],
   "source": [
    "evaluation = evaluation.query(f'ad in {ads} and label == \"Anomaly\"')"
   ]
  },
  {
   "cell_type": "code",
   "execution_count": 6,
   "metadata": {
    "ExecuteTime": {
     "end_time": "2025-03-15T15:24:34.628016Z",
     "start_time": "2025-03-15T15:24:34.505851Z"
    }
   },
   "outputs": [],
   "source": [
    "evaluation['perspective-label'] = evaluation['perspective'] + '-' + evaluation['label']\n",
    "evaluation['attribute_name-label'] = evaluation['attribute_name'] + '-' + evaluation['label']\n",
    "evaluation['dataset_type'] = 'Synthetic'\n",
    "evaluation.loc[evaluation['process_model'].str.contains('bpic'), 'dataset_type'] = 'Real-life'\n",
    "evaluation.loc[evaluation['process_model'].str.contains('real'), 'dataset_type'] = 'Real-life'"
   ]
  },
  {
   "cell_type": "markdown",
   "metadata": {},
   "source": [
    "# Determine the Best Strategy"
   ]
  },
  {
   "cell_type": "code",
   "execution_count": 7,
   "metadata": {
    "ExecuteTime": {
     "end_time": "2025-03-15T15:24:35.428332Z",
     "start_time": "2025-03-15T15:24:34.644399Z"
    }
   },
   "outputs": [
    {
     "ename": "ValueError",
     "evalue": "Cannot subset columns with a tuple with more than one element. Use a list instead.",
     "output_type": "error",
     "traceback": [
      "\u001b[0;31m---------------------------------------------------------------------------\u001b[0m",
      "\u001b[0;31mValueError\u001b[0m                                Traceback (most recent call last)",
      "Cell \u001b[0;32mIn[7], line 3\u001b[0m\n\u001b[1;32m      1\u001b[0m df \u001b[38;5;241m=\u001b[39m evaluation\u001b[38;5;241m.\u001b[39mquery(\u001b[38;5;124mf\u001b[39m\u001b[38;5;124m'\u001b[39m\u001b[38;5;124mheuristic == \u001b[39m\u001b[38;5;124m\"\u001b[39m\u001b[38;5;132;01m{\u001b[39;00mHeuristic\u001b[38;5;241m.\u001b[39mBEST\u001b[38;5;132;01m}\u001b[39;00m\u001b[38;5;124m\"\u001b[39m\u001b[38;5;124m and axis == \u001b[39m\u001b[38;5;132;01m{\u001b[39;00mAxis\u001b[38;5;241m.\u001b[39mATTRIBUTE\u001b[38;5;132;01m}\u001b[39;00m\u001b[38;5;124m'\u001b[39m)\n\u001b[1;32m      2\u001b[0m df \u001b[38;5;241m=\u001b[39m prettify_dataframe(df)\n\u001b[0;32m----> 3\u001b[0m df \u001b[38;5;241m=\u001b[39m \u001b[43mdf\u001b[49m\u001b[38;5;241;43m.\u001b[39;49m\u001b[43mgroupby\u001b[49m\u001b[43m(\u001b[49m\u001b[43m[\u001b[49m\u001b[38;5;124;43m'\u001b[39;49m\u001b[38;5;124;43mdataset_type\u001b[39;49m\u001b[38;5;124;43m'\u001b[39;49m\u001b[43m,\u001b[49m\u001b[43m \u001b[49m\u001b[38;5;124;43m'\u001b[39;49m\u001b[38;5;124;43mstrategy\u001b[39;49m\u001b[38;5;124;43m'\u001b[39;49m\u001b[43m,\u001b[49m\u001b[43m \u001b[49m\u001b[38;5;124;43m'\u001b[39;49m\u001b[38;5;124;43mad\u001b[39;49m\u001b[38;5;124;43m'\u001b[39;49m\u001b[43m,\u001b[49m\u001b[43m \u001b[49m\u001b[38;5;124;43m'\u001b[39;49m\u001b[38;5;124;43mfile_name\u001b[39;49m\u001b[38;5;124;43m'\u001b[39;49m\u001b[43m,\u001b[49m\u001b[43m \u001b[49m\u001b[38;5;124;43m'\u001b[39;49m\u001b[38;5;124;43mperspective\u001b[39;49m\u001b[38;5;124;43m'\u001b[39;49m\u001b[43m,\u001b[49m\u001b[43m \u001b[49m\u001b[38;5;124;43m'\u001b[39;49m\u001b[38;5;124;43mlabel\u001b[39;49m\u001b[38;5;124;43m'\u001b[39;49m\u001b[43m]\u001b[49m\u001b[43m)\u001b[49m\u001b[43m[\u001b[49m\u001b[38;5;124;43m'\u001b[39;49m\u001b[38;5;124;43mprecision\u001b[39;49m\u001b[38;5;124;43m'\u001b[39;49m\u001b[43m,\u001b[49m\u001b[43m \u001b[49m\u001b[38;5;124;43m'\u001b[39;49m\u001b[38;5;124;43mrecall\u001b[39;49m\u001b[38;5;124;43m'\u001b[39;49m\u001b[43m,\u001b[49m\u001b[43m \u001b[49m\u001b[38;5;124;43m'\u001b[39;49m\u001b[38;5;124;43mf1\u001b[39;49m\u001b[38;5;124;43m'\u001b[39;49m\u001b[43m]\u001b[49m\u001b[38;5;241m.\u001b[39mmean()\u001b[38;5;241m.\u001b[39mreset_index()\n\u001b[1;32m      4\u001b[0m df \u001b[38;5;241m=\u001b[39m df\u001b[38;5;241m.\u001b[39mgroupby([\u001b[38;5;124m'\u001b[39m\u001b[38;5;124mdataset_type\u001b[39m\u001b[38;5;124m'\u001b[39m, \u001b[38;5;124m'\u001b[39m\u001b[38;5;124mstrategy\u001b[39m\u001b[38;5;124m'\u001b[39m, \u001b[38;5;124m'\u001b[39m\u001b[38;5;124mad\u001b[39m\u001b[38;5;124m'\u001b[39m, \u001b[38;5;124m'\u001b[39m\u001b[38;5;124mfile_name\u001b[39m\u001b[38;5;124m'\u001b[39m, \u001b[38;5;124m'\u001b[39m\u001b[38;5;124mperspective\u001b[39m\u001b[38;5;124m'\u001b[39m])[\u001b[38;5;124m'\u001b[39m\u001b[38;5;124mprecision\u001b[39m\u001b[38;5;124m'\u001b[39m, \u001b[38;5;124m'\u001b[39m\u001b[38;5;124mrecall\u001b[39m\u001b[38;5;124m'\u001b[39m, \u001b[38;5;124m'\u001b[39m\u001b[38;5;124mf1\u001b[39m\u001b[38;5;124m'\u001b[39m]\u001b[38;5;241m.\u001b[39mmean()\u001b[38;5;241m.\u001b[39mreset_index()\n\u001b[1;32m      5\u001b[0m df \u001b[38;5;241m=\u001b[39m df\u001b[38;5;241m.\u001b[39mgroupby([\u001b[38;5;124m'\u001b[39m\u001b[38;5;124mdataset_type\u001b[39m\u001b[38;5;124m'\u001b[39m, \u001b[38;5;124m'\u001b[39m\u001b[38;5;124mstrategy\u001b[39m\u001b[38;5;124m'\u001b[39m, \u001b[38;5;124m'\u001b[39m\u001b[38;5;124mad\u001b[39m\u001b[38;5;124m'\u001b[39m, \u001b[38;5;124m'\u001b[39m\u001b[38;5;124mfile_name\u001b[39m\u001b[38;5;124m'\u001b[39m])[\u001b[38;5;124m'\u001b[39m\u001b[38;5;124mprecision\u001b[39m\u001b[38;5;124m'\u001b[39m, \u001b[38;5;124m'\u001b[39m\u001b[38;5;124mrecall\u001b[39m\u001b[38;5;124m'\u001b[39m, \u001b[38;5;124m'\u001b[39m\u001b[38;5;124mf1\u001b[39m\u001b[38;5;124m'\u001b[39m]\u001b[38;5;241m.\u001b[39mmean()\u001b[38;5;241m.\u001b[39mreset_index()\n",
      "File \u001b[0;32m/mnt/d/keras/lib/python3.9/site-packages/pandas/core/groupby/generic.py:1947\u001b[0m, in \u001b[0;36mDataFrameGroupBy.__getitem__\u001b[0;34m(self, key)\u001b[0m\n\u001b[1;32m   1943\u001b[0m \u001b[38;5;66;03m# per GH 23566\u001b[39;00m\n\u001b[1;32m   1944\u001b[0m \u001b[38;5;28;01mif\u001b[39;00m \u001b[38;5;28misinstance\u001b[39m(key, \u001b[38;5;28mtuple\u001b[39m) \u001b[38;5;129;01mand\u001b[39;00m \u001b[38;5;28mlen\u001b[39m(key) \u001b[38;5;241m>\u001b[39m \u001b[38;5;241m1\u001b[39m:\n\u001b[1;32m   1945\u001b[0m     \u001b[38;5;66;03m# if len == 1, then it becomes a SeriesGroupBy and this is actually\u001b[39;00m\n\u001b[1;32m   1946\u001b[0m     \u001b[38;5;66;03m# valid syntax, so don't raise\u001b[39;00m\n\u001b[0;32m-> 1947\u001b[0m     \u001b[38;5;28;01mraise\u001b[39;00m \u001b[38;5;167;01mValueError\u001b[39;00m(\n\u001b[1;32m   1948\u001b[0m         \u001b[38;5;124m\"\u001b[39m\u001b[38;5;124mCannot subset columns with a tuple with more than one element. \u001b[39m\u001b[38;5;124m\"\u001b[39m\n\u001b[1;32m   1949\u001b[0m         \u001b[38;5;124m\"\u001b[39m\u001b[38;5;124mUse a list instead.\u001b[39m\u001b[38;5;124m\"\u001b[39m\n\u001b[1;32m   1950\u001b[0m     )\n\u001b[1;32m   1951\u001b[0m \u001b[38;5;28;01mreturn\u001b[39;00m \u001b[38;5;28msuper\u001b[39m()\u001b[38;5;241m.\u001b[39m\u001b[38;5;21m__getitem__\u001b[39m(key)\n",
      "\u001b[0;31mValueError\u001b[0m: Cannot subset columns with a tuple with more than one element. Use a list instead."
     ]
    }
   ],
   "source": [
    "df = evaluation.query(f'heuristic == \"{Heuristic.BEST}\" and axis == {Axis.ATTRIBUTE}')\n",
    "df = prettify_dataframe(df)\n",
    "df = df.groupby(['dataset_type', 'strategy', 'ad', 'file_name', 'perspective', 'label'])['precision', 'recall', 'f1'].mean().reset_index()\n",
    "df = df.groupby(['dataset_type', 'strategy', 'ad', 'file_name', 'perspective'])['precision', 'recall', 'f1'].mean().reset_index()\n",
    "df = df.groupby(['dataset_type', 'strategy', 'ad', 'file_name'])['precision', 'recall', 'f1'].mean().reset_index()\n",
    "df['f1'] = 2 * df['recall'] * df['precision'] / (df['recall'] + df['precision'])\n",
    "df['f1'] = df['f1'].fillna(0)\n",
    "df = df.melt(id_vars=['ad', 'strategy', 'dataset_type'], value_vars=['precision', 'recall', 'f1'], var_name='metric')\n",
    "g = sns.FacetGrid(data=df, row='metric', col='dataset_type', sharex=False, sharey=True, despine=False, height=2, aspect=4, col_order=dataset_types)\n",
    "g = g.map_dataframe(sns.barplot, x='ad', y='value', hue='strategy', palette=microsoft_colors, order=h_ads)\n",
    "g = g.add_legend()"
   ]
  },
  {
   "cell_type": "markdown",
   "metadata": {},
   "source": [
    "## Plot featured in the paper (Figure 8)"
   ]
  },
  {
   "cell_type": "code",
   "execution_count": null,
   "metadata": {},
   "outputs": [
    {
     "data": {
      "image/png": "[encoded data removed]",
      "text/plain": [
       "<Figure size 577.9x144 with 1 Axes>"
      ]
     },
     "metadata": {
      "image/png": {
       "height": 124,
       "width": 586
      },
      "needs_background": "light"
     },
     "output_type": "display_data"
    }
   ],
   "source": [
    "df = evaluation.query('heuristic == \"best\" and axis == 2 and dataset_type == \"Synthetic\"')\n",
    "df = prettify_dataframe(df)\n",
    "df = df.groupby(['dataset_type', 'strategy', 'ad', 'file_name', 'perspective', 'label'])['precision', 'recall', 'f1'].mean().reset_index()\n",
    "df = df.groupby(['dataset_type', 'strategy', 'ad', 'file_name', 'perspective'])['precision', 'recall', 'f1'].mean().reset_index()\n",
    "df = df.groupby(['dataset_type', 'strategy', 'ad', 'file_name'])['precision', 'recall', 'f1'].mean().reset_index()\n",
    "df['f1'] = 2 * df['recall'] * df['precision'] / (df['recall'] + df['precision'])\n",
    "df['f1'] = df['f1'].fillna(0)\n",
    "df['strategy'] = df['strategy'].replace(r'h', r'best', regex=True)\n",
    "g = sns.FacetGrid(data=df, row='dataset_type', sharex=False, sharey=True, despine=False, height=2, aspect=3.5)\n",
    "g = g.map_dataframe(sns.barplot, x='ad', y='f1', hue='strategy', palette=microsoft_colors, order=h_ads)\n",
    "g.add_legend()\n",
    "_ = g.set(xlabel='', ylabel=r'$F_1$', title='')\n",
    "g.savefig(str(out_dir / 'eval_strategies.pdf'))"
   ]
  },
  {
   "cell_type": "code",
   "execution_count": null,
   "metadata": {},
   "outputs": [],
   "source": []
  }
 ],
 "metadata": {
  "kernelspec": {
   "display_name": "Python 3",
   "language": "python",
   "name": "python3"
  },
  "language_info": {
   "codemirror_mode": {
    "name": "ipython",
    "version": 3
   },
   "file_extension": ".py",
   "mimetype": "text/x-python",
   "name": "python",
   "nbconvert_exporter": "python",
   "pygments_lexer": "ipython3",
   "version": "3.9.21"
  }
 },
 "nbformat": 4,
 "nbformat_minor": 2
}

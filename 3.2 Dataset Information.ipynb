{
 "cells": [
  {
   "cell_type": "code",
   "metadata": {
    "ExecuteTime": {
     "end_time": "2025-03-15T10:17:45.302594Z",
     "start_time": "2025-03-15T10:17:44.986408Z"
    }
   },
   "source": [
    "import pandas as pd\n",
    "import networkx as nx\n",
    "import numpy as np\n",
    "from tqdm import tqdm\n",
    "\n",
    "from april import Dataset\n",
    "from april.processmining import ProcessMap\n",
    "from april.fs import get_event_log_files\n",
    "from april.fs import get_process_model_files"
   ],
   "outputs": [],
   "execution_count": 1
  },
  {
   "cell_type": "markdown",
   "metadata": {},
   "source": [
    "# Event Log information"
   ]
  },
  {
   "cell_type": "markdown",
   "metadata": {},
   "source": [
    "A list of all event logs used in the evaluation"
   ]
  },
  {
   "cell_type": "code",
   "metadata": {
    "ExecuteTime": {
     "end_time": "2025-03-15T10:17:45.349464Z",
     "start_time": "2025-03-15T10:17:45.302594Z"
    }
   },
   "source": [
    "logs = sorted([e.name for e in get_event_log_files() if e.p == 0.3])\n",
    "columns = ['name', 'base_name', 'num_cases', 'num_events', 'num_activities', \n",
    "           'num_attributes', 'attribute_keys', 'attribute_dims', \n",
    "           'min_attribute_dim', 'max_attribute_dim',\n",
    "           'min_case_len', 'max_case_len', 'mean_case_len']\n",
    "df = []\n",
    "for log in tqdm(logs):\n",
    "    d = Dataset(log)\n",
    "    dim_min = d.attribute_dims[1:].astype(int).min() if d.attribute_dims[1:].size else None\n",
    "    dim_max = d.attribute_dims[1:].astype(int).max() if d.attribute_dims[1:].size else None\n",
    "    df.append([log, log.split('-')[0], d.num_cases, d.num_events, d.attribute_dims[0].astype(int), \n",
    "               d.num_attributes - 1, d.attribute_keys[1:], d.attribute_dims[1:].astype(int), dim_min, dim_max,\n",
    "               d.case_lens.min(), d.case_lens.max(), d.case_lens.mean().round(2)])\n",
    "event_logs = pd.DataFrame(df, columns=columns)"
   ],
   "outputs": [
    {
     "name": "stderr",
     "output_type": "stream",
     "text": [
      "100%|██████████| 1/1 [00:00<?, ?it/s]\n"
     ]
    }
   ],
   "execution_count": 2
  },
  {
   "cell_type": "markdown",
   "metadata": {},
   "source": [
    "## Basis for Table 1 in the Paper"
   ]
  },
  {
   "cell_type": "code",
   "metadata": {
    "ExecuteTime": {
     "end_time": "2025-03-15T10:17:45.565430Z",
     "start_time": "2025-03-15T10:17:45.549810Z"
    }
   },
   "source": [
    "event_logs"
   ],
   "outputs": [
    {
     "data": {
      "text/plain": [
       "          name base_name  num_cases  num_events  num_activities  \\\n",
       "0  paper-0.3-1     paper       5000       66814              27   \n",
       "\n",
       "   num_attributes attribute_keys attribute_dims  min_attribute_dim  \\\n",
       "0               1         [user]           [13]                 13   \n",
       "\n",
       "   max_attribute_dim  min_case_len  max_case_len  mean_case_len  \n",
       "0                 13             9            17          13.36  "
      ],
      "text/html": [
       "<div>\n",
       "<style scoped>\n",
       "    .dataframe tbody tr th:only-of-type {\n",
       "        vertical-align: middle;\n",
       "    }\n",
       "\n",
       "    .dataframe tbody tr th {\n",
       "        vertical-align: top;\n",
       "    }\n",
       "\n",
       "    .dataframe thead th {\n",
       "        text-align: right;\n",
       "    }\n",
       "</style>\n",
       "<table border=\"1\" class=\"dataframe\">\n",
       "  <thead>\n",
       "    <tr style=\"text-align: right;\">\n",
       "      <th></th>\n",
       "      <th>name</th>\n",
       "      <th>base_name</th>\n",
       "      <th>num_cases</th>\n",
       "      <th>num_events</th>\n",
       "      <th>num_activities</th>\n",
       "      <th>num_attributes</th>\n",
       "      <th>attribute_keys</th>\n",
       "      <th>attribute_dims</th>\n",
       "      <th>min_attribute_dim</th>\n",
       "      <th>max_attribute_dim</th>\n",
       "      <th>min_case_len</th>\n",
       "      <th>max_case_len</th>\n",
       "      <th>mean_case_len</th>\n",
       "    </tr>\n",
       "  </thead>\n",
       "  <tbody>\n",
       "    <tr>\n",
       "      <th>0</th>\n",
       "      <td>paper-0.3-1</td>\n",
       "      <td>paper</td>\n",
       "      <td>5000</td>\n",
       "      <td>66814</td>\n",
       "      <td>27</td>\n",
       "      <td>1</td>\n",
       "      <td>[user]</td>\n",
       "      <td>[13]</td>\n",
       "      <td>13</td>\n",
       "      <td>13</td>\n",
       "      <td>9</td>\n",
       "      <td>17</td>\n",
       "      <td>13.36</td>\n",
       "    </tr>\n",
       "  </tbody>\n",
       "</table>\n",
       "</div>"
      ]
     },
     "execution_count": 3,
     "metadata": {},
     "output_type": "execute_result"
    }
   ],
   "execution_count": 3
  },
  {
   "cell_type": "code",
   "metadata": {
    "ExecuteTime": {
     "end_time": "2025-03-15T10:17:45.650941Z",
     "start_time": "2025-03-15T10:17:45.635314Z"
    }
   },
   "source": [
    "event_logs[['base_name', 'num_activities', 'num_cases', 'num_events', 'min_attribute_dim', 'max_attribute_dim']].groupby('base_name').agg(['count', 'min', 'max'])"
   ],
   "outputs": [
    {
     "data": {
      "text/plain": [
       "          num_activities         num_cases             num_events         \\\n",
       "                   count min max     count   min   max      count    min   \n",
       "base_name                                                                  \n",
       "paper                  1  27  27         1  5000  5000          1  66814   \n",
       "\n",
       "                 min_attribute_dim         max_attribute_dim          \n",
       "             max             count min max             count min max  \n",
       "base_name                                                             \n",
       "paper      66814                 1  13  13                 1  13  13  "
      ],
      "text/html": [
       "<div>\n",
       "<style scoped>\n",
       "    .dataframe tbody tr th:only-of-type {\n",
       "        vertical-align: middle;\n",
       "    }\n",
       "\n",
       "    .dataframe tbody tr th {\n",
       "        vertical-align: top;\n",
       "    }\n",
       "\n",
       "    .dataframe thead tr th {\n",
       "        text-align: left;\n",
       "    }\n",
       "\n",
       "    .dataframe thead tr:last-of-type th {\n",
       "        text-align: right;\n",
       "    }\n",
       "</style>\n",
       "<table border=\"1\" class=\"dataframe\">\n",
       "  <thead>\n",
       "    <tr>\n",
       "      <th></th>\n",
       "      <th colspan=\"3\" halign=\"left\">num_activities</th>\n",
       "      <th colspan=\"3\" halign=\"left\">num_cases</th>\n",
       "      <th colspan=\"3\" halign=\"left\">num_events</th>\n",
       "      <th colspan=\"3\" halign=\"left\">min_attribute_dim</th>\n",
       "      <th colspan=\"3\" halign=\"left\">max_attribute_dim</th>\n",
       "    </tr>\n",
       "    <tr>\n",
       "      <th></th>\n",
       "      <th>count</th>\n",
       "      <th>min</th>\n",
       "      <th>max</th>\n",
       "      <th>count</th>\n",
       "      <th>min</th>\n",
       "      <th>max</th>\n",
       "      <th>count</th>\n",
       "      <th>min</th>\n",
       "      <th>max</th>\n",
       "      <th>count</th>\n",
       "      <th>min</th>\n",
       "      <th>max</th>\n",
       "      <th>count</th>\n",
       "      <th>min</th>\n",
       "      <th>max</th>\n",
       "    </tr>\n",
       "    <tr>\n",
       "      <th>base_name</th>\n",
       "      <th></th>\n",
       "      <th></th>\n",
       "      <th></th>\n",
       "      <th></th>\n",
       "      <th></th>\n",
       "      <th></th>\n",
       "      <th></th>\n",
       "      <th></th>\n",
       "      <th></th>\n",
       "      <th></th>\n",
       "      <th></th>\n",
       "      <th></th>\n",
       "      <th></th>\n",
       "      <th></th>\n",
       "      <th></th>\n",
       "    </tr>\n",
       "  </thead>\n",
       "  <tbody>\n",
       "    <tr>\n",
       "      <th>paper</th>\n",
       "      <td>1</td>\n",
       "      <td>27</td>\n",
       "      <td>27</td>\n",
       "      <td>1</td>\n",
       "      <td>5000</td>\n",
       "      <td>5000</td>\n",
       "      <td>1</td>\n",
       "      <td>66814</td>\n",
       "      <td>66814</td>\n",
       "      <td>1</td>\n",
       "      <td>13</td>\n",
       "      <td>13</td>\n",
       "      <td>1</td>\n",
       "      <td>13</td>\n",
       "      <td>13</td>\n",
       "    </tr>\n",
       "  </tbody>\n",
       "</table>\n",
       "</div>"
      ]
     },
     "execution_count": 4,
     "metadata": {},
     "output_type": "execute_result"
    }
   ],
   "execution_count": 4
  },
  {
   "cell_type": "markdown",
   "metadata": {},
   "source": [
    "# Process Model Information"
   ]
  },
  {
   "cell_type": "code",
   "metadata": {
    "ExecuteTime": {
     "end_time": "2025-03-15T10:17:45.887988Z",
     "start_time": "2025-03-15T10:17:45.708936Z"
    }
   },
   "source": [
    "maps = sorted([m for m in get_process_model_files()])\n",
    "df = []\n",
    "for process_map in tqdm(maps):\n",
    "    model = ProcessMap.from_plg(process_map)\n",
    "\n",
    "    num_variants = len(model.variants.cases)\n",
    "    max_case_len = model.variants.max_case_len\n",
    "\n",
    "    nodes = model.graph.number_of_nodes()\n",
    "    edges = model.graph.number_of_edges()\n",
    "    dens = nx.density(model.graph)\n",
    "    in_degree = np.mean([d[1] for d in model.graph.in_degree()])\n",
    "    out_degree = np.mean([d[1] for d in model.graph.out_degree()])\n",
    "\n",
    "    df.append([nodes, edges, num_variants, max_case_len, dens, in_degree, out_degree])\n",
    "process_models = pd.DataFrame(df, index=maps, columns=['nodes', 'edges', 'num_variants', 'max_case_len', 'density', 'in_deg', 'out_deg'])"
   ],
   "outputs": [
    {
     "name": "stderr",
     "output_type": "stream",
     "text": [
      "100%|██████████| 8/8 [00:00<00:00, 48.96it/s]\n"
     ]
    }
   ],
   "execution_count": 5
  },
  {
   "cell_type": "code",
   "metadata": {
    "ExecuteTime": {
     "end_time": "2025-03-15T10:19:27.363359Z",
     "start_time": "2025-03-15T10:19:27.332091Z"
    }
   },
   "source": [
    "# process_models.loc[['paper', 'p2p', 'small', 'medium', 'large', 'huge', 'gigantic', 'wide', 'testing']].round(2)\n",
    "process_models.loc[['paper', 'p2p', 'small', 'medium', 'large', 'huge', 'gigantic', 'wide']].round(2)\n"
   ],
   "outputs": [
    {
     "data": {
      "text/plain": [
       "          nodes  edges  num_variants  max_case_len  density  in_deg  out_deg\n",
       "paper        16     18             8            12     0.08    1.12     1.12\n",
       "p2p          15     18             8            11     0.09    1.20     1.20\n",
       "small        22     26             6            10     0.06    1.18     1.18\n",
       "medium       34     48            25             8     0.04    1.41     1.41\n",
       "large        44     56            28            12     0.03    1.27     1.27\n",
       "huge         56     75            39            11     0.02    1.34     1.34\n",
       "gigantic     80    119            71            11     0.02    1.49     1.49\n",
       "wide         36     53            19             7     0.04    1.47     1.47"
      ],
      "text/html": [
       "<div>\n",
       "<style scoped>\n",
       "    .dataframe tbody tr th:only-of-type {\n",
       "        vertical-align: middle;\n",
       "    }\n",
       "\n",
       "    .dataframe tbody tr th {\n",
       "        vertical-align: top;\n",
       "    }\n",
       "\n",
       "    .dataframe thead th {\n",
       "        text-align: right;\n",
       "    }\n",
       "</style>\n",
       "<table border=\"1\" class=\"dataframe\">\n",
       "  <thead>\n",
       "    <tr style=\"text-align: right;\">\n",
       "      <th></th>\n",
       "      <th>nodes</th>\n",
       "      <th>edges</th>\n",
       "      <th>num_variants</th>\n",
       "      <th>max_case_len</th>\n",
       "      <th>density</th>\n",
       "      <th>in_deg</th>\n",
       "      <th>out_deg</th>\n",
       "    </tr>\n",
       "  </thead>\n",
       "  <tbody>\n",
       "    <tr>\n",
       "      <th>paper</th>\n",
       "      <td>16</td>\n",
       "      <td>18</td>\n",
       "      <td>8</td>\n",
       "      <td>12</td>\n",
       "      <td>0.08</td>\n",
       "      <td>1.12</td>\n",
       "      <td>1.12</td>\n",
       "    </tr>\n",
       "    <tr>\n",
       "      <th>p2p</th>\n",
       "      <td>15</td>\n",
       "      <td>18</td>\n",
       "      <td>8</td>\n",
       "      <td>11</td>\n",
       "      <td>0.09</td>\n",
       "      <td>1.20</td>\n",
       "      <td>1.20</td>\n",
       "    </tr>\n",
       "    <tr>\n",
       "      <th>small</th>\n",
       "      <td>22</td>\n",
       "      <td>26</td>\n",
       "      <td>6</td>\n",
       "      <td>10</td>\n",
       "      <td>0.06</td>\n",
       "      <td>1.18</td>\n",
       "      <td>1.18</td>\n",
       "    </tr>\n",
       "    <tr>\n",
       "      <th>medium</th>\n",
       "      <td>34</td>\n",
       "      <td>48</td>\n",
       "      <td>25</td>\n",
       "      <td>8</td>\n",
       "      <td>0.04</td>\n",
       "      <td>1.41</td>\n",
       "      <td>1.41</td>\n",
       "    </tr>\n",
       "    <tr>\n",
       "      <th>large</th>\n",
       "      <td>44</td>\n",
       "      <td>56</td>\n",
       "      <td>28</td>\n",
       "      <td>12</td>\n",
       "      <td>0.03</td>\n",
       "      <td>1.27</td>\n",
       "      <td>1.27</td>\n",
       "    </tr>\n",
       "    <tr>\n",
       "      <th>huge</th>\n",
       "      <td>56</td>\n",
       "      <td>75</td>\n",
       "      <td>39</td>\n",
       "      <td>11</td>\n",
       "      <td>0.02</td>\n",
       "      <td>1.34</td>\n",
       "      <td>1.34</td>\n",
       "    </tr>\n",
       "    <tr>\n",
       "      <th>gigantic</th>\n",
       "      <td>80</td>\n",
       "      <td>119</td>\n",
       "      <td>71</td>\n",
       "      <td>11</td>\n",
       "      <td>0.02</td>\n",
       "      <td>1.49</td>\n",
       "      <td>1.49</td>\n",
       "    </tr>\n",
       "    <tr>\n",
       "      <th>wide</th>\n",
       "      <td>36</td>\n",
       "      <td>53</td>\n",
       "      <td>19</td>\n",
       "      <td>7</td>\n",
       "      <td>0.04</td>\n",
       "      <td>1.47</td>\n",
       "      <td>1.47</td>\n",
       "    </tr>\n",
       "  </tbody>\n",
       "</table>\n",
       "</div>"
      ]
     },
     "execution_count": 7,
     "metadata": {},
     "output_type": "execute_result"
    }
   ],
   "execution_count": 7
  },
  {
   "cell_type": "code",
   "execution_count": null,
   "metadata": {},
   "outputs": [],
   "source": []
  }
 ],
 "metadata": {
  "kernelspec": {
   "display_name": "Python 3",
   "language": "python",
   "name": "python3"
  },
  "language_info": {
   "codemirror_mode": {
    "name": "ipython",
    "version": 3
   },
   "file_extension": ".py",
   "mimetype": "text/x-python",
   "name": "python",
   "nbconvert_exporter": "python",
   "pygments_lexer": "ipython3",
   "version": "3.6.8"
  }
 },
 "nbformat": 4,
 "nbformat_minor": 2
}
